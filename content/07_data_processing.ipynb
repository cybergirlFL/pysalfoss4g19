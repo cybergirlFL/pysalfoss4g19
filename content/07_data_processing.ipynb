{
 "cells": [
  {
   "cell_type": "markdown",
   "metadata": {},
   "source": [
    "# Spatial Data Processing with libpysal,  Pandas and Geopandas\n"
   ]
  },
  {
   "cell_type": "code",
   "execution_count": 1,
   "metadata": {},
   "outputs": [],
   "source": [
    "# By convention, we use these shorter names\n",
    "import libpysal as ps\n",
    "import pandas as pd\n",
    "import numpy as np\n",
    "import geopandas as gpd"
   ]
  },
  {
   "cell_type": "markdown",
   "metadata": {},
   "source": [
    "## libpysal "
   ]
  },
  {
   "cell_type": "markdown",
   "metadata": {},
   "source": [
    "libpysal has a command that it uses to get the paths of its example datasets. Let's work with a commonly-used dataset first. "
   ]
  },
  {
   "cell_type": "code",
   "execution_count": 2,
   "metadata": {
    "scrolled": true
   },
   "outputs": [
    {
     "data": {
      "text/plain": [
       "['georgia',\n",
       " '__pycache__',\n",
       " 'tests',\n",
       " 'newHaven',\n",
       " 'Polygon_Holes',\n",
       " 'nat',\n",
       " 'Polygon',\n",
       " '10740',\n",
       " 'berlin',\n",
       " 'rio_grande_do_sul',\n",
       " 'sids2',\n",
       " 'sacramento2',\n",
       " 'burkitt',\n",
       " 'arcgis',\n",
       " 'calemp',\n",
       " 'stl',\n",
       " 'virginia',\n",
       " 'geodanet',\n",
       " 'desmith',\n",
       " 'book',\n",
       " 'nyc_bikes',\n",
       " 'Line',\n",
       " 'south',\n",
       " 'snow_maps',\n",
       " 'Point',\n",
       " 'street_net_pts',\n",
       " 'guerry',\n",
       " '__pycache__',\n",
       " 'baltim',\n",
       " 'networks',\n",
       " 'us_income',\n",
       " 'taz',\n",
       " 'columbus',\n",
       " 'tokyo',\n",
       " 'mexico',\n",
       " '__pycache__',\n",
       " 'chicago',\n",
       " 'wmat',\n",
       " 'juvenile',\n",
       " 'clearwater']"
      ]
     },
     "execution_count": 2,
     "metadata": {},
     "output_type": "execute_result"
    }
   ],
   "source": [
    "ps.examples.available()"
   ]
  },
  {
   "cell_type": "code",
   "execution_count": 3,
   "metadata": {},
   "outputs": [
    {
     "data": {
      "text/plain": [
       "{'name': 'us_income',\n",
       " 'description': 'Per-capita income for the lower 48 US states 1929-2009',\n",
       " 'explanation': ['* spi_download.csv: regional per capita income time series 1969-2008. (source:  Regional Economic Information System, Bureau of Economic Analysis, U.S. Department of Commerce) ',\n",
       "  '* states48.gal: contiguity weights in GAL format.',\n",
       "  '* us48.dbf: attribute data. (k=8)',\n",
       "  '* us48.shp: Polygon shapefile. (n=48) ',\n",
       "  '* us48.shx: spatial index.',\n",
       "  '* usjoin.csv: 48 US states per capita income time series 1929-2009.']}"
      ]
     },
     "execution_count": 3,
     "metadata": {},
     "output_type": "execute_result"
    }
   ],
   "source": [
    "ps.examples.explain('us_income')"
   ]
  },
  {
   "cell_type": "code",
   "execution_count": 4,
   "metadata": {},
   "outputs": [
    {
     "data": {
      "text/plain": [
       "'/home/serge/anaconda3/envs/workshop18/lib/python3.6/site-packages/libpysal/examples/us_income/usjoin.csv'"
      ]
     },
     "execution_count": 4,
     "metadata": {},
     "output_type": "execute_result"
    }
   ],
   "source": [
    "csv_path = ps.examples.get_path('usjoin.csv')\n",
    "csv_path"
   ]
  },
  {
   "cell_type": "code",
   "execution_count": 5,
   "metadata": {},
   "outputs": [
    {
     "data": {
      "text/plain": [
       "['Name',\n",
       " 'STATE_FIPS',\n",
       " '1929',\n",
       " '1930',\n",
       " '1931',\n",
       " '1932',\n",
       " '1933',\n",
       " '1934',\n",
       " '1935',\n",
       " '1936']"
      ]
     },
     "execution_count": 5,
     "metadata": {},
     "output_type": "execute_result"
    }
   ],
   "source": [
    "f = ps.io.open(csv_path)\n",
    "f.header[0:10]"
   ]
  },
  {
   "cell_type": "code",
   "execution_count": 6,
   "metadata": {},
   "outputs": [],
   "source": [
    "y2009 = f.by_col('2009')"
   ]
  },
  {
   "cell_type": "code",
   "execution_count": 7,
   "metadata": {},
   "outputs": [
    {
     "data": {
      "text/plain": [
       "[32274, 32077, 31493, 40902, 40093, 52736, 40135, 36565, 33086, 30987]"
      ]
     },
     "execution_count": 7,
     "metadata": {},
     "output_type": "execute_result"
    }
   ],
   "source": [
    "y2009[0:10]"
   ]
  },
  {
   "cell_type": "markdown",
   "metadata": {},
   "source": [
    "### Working with shapefiles"
   ]
  },
  {
   "cell_type": "markdown",
   "metadata": {},
   "source": [
    "We can also work with local files outside the built-in examples.\n",
    "\n",
    "To read in a shapefile, we will need the path to the file."
   ]
  },
  {
   "cell_type": "code",
   "execution_count": 8,
   "metadata": {},
   "outputs": [
    {
     "name": "stdout",
     "output_type": "stream",
     "text": [
      "data/texas.shp\n"
     ]
    }
   ],
   "source": [
    "shp_path = 'data/texas.shp'\n",
    "print(shp_path)"
   ]
  },
  {
   "cell_type": "markdown",
   "metadata": {},
   "source": [
    "Then, we open the file using the `ps.io.open` command:"
   ]
  },
  {
   "cell_type": "code",
   "execution_count": 9,
   "metadata": {},
   "outputs": [],
   "source": [
    "f = ps.io.open(shp_path)"
   ]
  },
  {
   "cell_type": "markdown",
   "metadata": {},
   "source": [
    "`f` is what we call a \"file handle.\" That means that it only *points* to the data and provides ways to work with it. By itself, it does not read the whole dataset into memory. To see basic information about the file, we can use a few different methods. \n",
    "\n",
    "For instance, the header of the file, which contains most of the metadata about the file:"
   ]
  },
  {
   "cell_type": "code",
   "execution_count": 10,
   "metadata": {},
   "outputs": [
    {
     "data": {
      "text/plain": [
       "{'File Code': 9994,\n",
       " 'Unused0': 0,\n",
       " 'Unused1': 0,\n",
       " 'Unused2': 0,\n",
       " 'Unused3': 0,\n",
       " 'Unused4': 0,\n",
       " 'File Length': 49902,\n",
       " 'Version': 1000,\n",
       " 'Shape Type': 5,\n",
       " 'BBOX Xmin': -106.6495132446289,\n",
       " 'BBOX Ymin': 25.845197677612305,\n",
       " 'BBOX Xmax': -93.50721740722656,\n",
       " 'BBOX Ymax': 36.49387741088867,\n",
       " 'BBOX Zmin': 0.0,\n",
       " 'BBOX Zmax': 0.0,\n",
       " 'BBOX Mmin': 0.0,\n",
       " 'BBOX Mmax': 0.0}"
      ]
     },
     "execution_count": 10,
     "metadata": {},
     "output_type": "execute_result"
    }
   ],
   "source": [
    "f.header"
   ]
  },
  {
   "cell_type": "markdown",
   "metadata": {},
   "source": [
    "To actually read in the shapes from memory, you can use the following commands:"
   ]
  },
  {
   "cell_type": "code",
   "execution_count": 11,
   "metadata": {},
   "outputs": [
    {
     "data": {
      "text/plain": [
       "<libpysal.cg.shapes.Polygon at 0x7f7b367cc710>"
      ]
     },
     "execution_count": 11,
     "metadata": {},
     "output_type": "execute_result"
    }
   ],
   "source": [
    "f.by_row(14) # gets the 14th shape from the file"
   ]
  },
  {
   "cell_type": "code",
   "execution_count": 12,
   "metadata": {},
   "outputs": [],
   "source": [
    "all_polygons = f.read() # reads in all polygons from memory"
   ]
  },
  {
   "cell_type": "code",
   "execution_count": 13,
   "metadata": {},
   "outputs": [
    {
     "data": {
      "text/plain": [
       "254"
      ]
     },
     "execution_count": 13,
     "metadata": {},
     "output_type": "execute_result"
    }
   ],
   "source": [
    "len(all_polygons)"
   ]
  },
  {
   "cell_type": "markdown",
   "metadata": {},
   "source": [
    "So, all 254 polygons have been read in from file. These are stored in libpysal shape objects, which can be used by libpysal and can be converted to other Python shape objects.\n",
    "\n",
    "They typically have a few methods. So, since we've read in polygonal data, we can get some properties about the polygons. Let's just have a look at the first polygon:"
   ]
  },
  {
   "cell_type": "code",
   "execution_count": 14,
   "metadata": {},
   "outputs": [
    {
     "data": {
      "text/plain": [
       "[<libpysal.cg.shapes.Polygon at 0x7f7b367cc080>,\n",
       " <libpysal.cg.shapes.Polygon at 0x7f7b367cc5c0>,\n",
       " <libpysal.cg.shapes.Polygon at 0x7f7b367cc390>,\n",
       " <libpysal.cg.shapes.Polygon at 0x7f7b367cc6a0>,\n",
       " <libpysal.cg.shapes.Polygon at 0x7f7b367cc438>]"
      ]
     },
     "execution_count": 14,
     "metadata": {},
     "output_type": "execute_result"
    }
   ],
   "source": [
    "all_polygons[0:5]"
   ]
  },
  {
   "cell_type": "code",
   "execution_count": 15,
   "metadata": {},
   "outputs": [
    {
     "data": {
      "text/plain": [
       "(-100.27156110567945, 36.27508640938005)"
      ]
     },
     "execution_count": 15,
     "metadata": {},
     "output_type": "execute_result"
    }
   ],
   "source": [
    "all_polygons[0].centroid #the centroid of the first polygon"
   ]
  },
  {
   "cell_type": "code",
   "execution_count": 16,
   "metadata": {},
   "outputs": [
    {
     "data": {
      "text/plain": [
       "0.23682222998468205"
      ]
     },
     "execution_count": 16,
     "metadata": {},
     "output_type": "execute_result"
    }
   ],
   "source": [
    "all_polygons[0].area"
   ]
  },
  {
   "cell_type": "code",
   "execution_count": 17,
   "metadata": {},
   "outputs": [
    {
     "data": {
      "text/plain": [
       "1.9582821721538344"
      ]
     },
     "execution_count": 17,
     "metadata": {},
     "output_type": "execute_result"
    }
   ],
   "source": [
    "all_polygons[0].perimeter"
   ]
  },
  {
   "cell_type": "markdown",
   "metadata": {},
   "source": [
    "While in the Jupyter Notebook, you can examine what properties an object has by using the tab key."
   ]
  },
  {
   "cell_type": "code",
   "execution_count": 18,
   "metadata": {},
   "outputs": [],
   "source": [
    "polygon = all_polygons[0]"
   ]
  },
  {
   "cell_type": "code",
   "execution_count": 19,
   "metadata": {},
   "outputs": [
    {
     "ename": "SyntaxError",
     "evalue": "invalid syntax (<ipython-input-19-6ab3d2da4217>, line 1)",
     "output_type": "error",
     "traceback": [
      "\u001b[0;36m  File \u001b[0;32m\"<ipython-input-19-6ab3d2da4217>\"\u001b[0;36m, line \u001b[0;32m1\u001b[0m\n\u001b[0;31m    polygon. #press tab when the cursor is right after the dot\u001b[0m\n\u001b[0m                                                              ^\u001b[0m\n\u001b[0;31mSyntaxError\u001b[0m\u001b[0;31m:\u001b[0m invalid syntax\n"
     ]
    }
   ],
   "source": [
    "polygon. #press tab when the cursor is right after the dot"
   ]
  },
  {
   "cell_type": "markdown",
   "metadata": {},
   "source": [
    "### Working with Data Tables"
   ]
  },
  {
   "cell_type": "code",
   "execution_count": 20,
   "metadata": {},
   "outputs": [
    {
     "name": "stdout",
     "output_type": "stream",
     "text": [
      "data/texas.dbf\n"
     ]
    }
   ],
   "source": [
    "dbf_path = \"data/texas.dbf\"\n",
    "print(dbf_path)"
   ]
  },
  {
   "cell_type": "markdown",
   "metadata": {},
   "source": [
    "When you're working with tables of data, like a `csv` or `dbf`, you can extract your data in the following way. Let's open the dbf file we got the path for above."
   ]
  },
  {
   "cell_type": "code",
   "execution_count": 21,
   "metadata": {},
   "outputs": [],
   "source": [
    "f = ps.io.open(dbf_path)"
   ]
  },
  {
   "cell_type": "markdown",
   "metadata": {},
   "source": [
    "Just like with the shapefile, we can examine the header of the dbf file."
   ]
  },
  {
   "cell_type": "code",
   "execution_count": 22,
   "metadata": {},
   "outputs": [
    {
     "data": {
      "text/plain": [
       "['NAME',\n",
       " 'STATE_NAME',\n",
       " 'STATE_FIPS',\n",
       " 'CNTY_FIPS',\n",
       " 'FIPS',\n",
       " 'STFIPS',\n",
       " 'COFIPS',\n",
       " 'FIPSNO',\n",
       " 'SOUTH',\n",
       " 'HR60',\n",
       " 'HR70',\n",
       " 'HR80',\n",
       " 'HR90',\n",
       " 'HC60',\n",
       " 'HC70',\n",
       " 'HC80',\n",
       " 'HC90',\n",
       " 'PO60',\n",
       " 'PO70',\n",
       " 'PO80',\n",
       " 'PO90',\n",
       " 'RD60',\n",
       " 'RD70',\n",
       " 'RD80',\n",
       " 'RD90',\n",
       " 'PS60',\n",
       " 'PS70',\n",
       " 'PS80',\n",
       " 'PS90',\n",
       " 'UE60',\n",
       " 'UE70',\n",
       " 'UE80',\n",
       " 'UE90',\n",
       " 'DV60',\n",
       " 'DV70',\n",
       " 'DV80',\n",
       " 'DV90',\n",
       " 'MA60',\n",
       " 'MA70',\n",
       " 'MA80',\n",
       " 'MA90',\n",
       " 'POL60',\n",
       " 'POL70',\n",
       " 'POL80',\n",
       " 'POL90',\n",
       " 'DNL60',\n",
       " 'DNL70',\n",
       " 'DNL80',\n",
       " 'DNL90',\n",
       " 'MFIL59',\n",
       " 'MFIL69',\n",
       " 'MFIL79',\n",
       " 'MFIL89',\n",
       " 'FP59',\n",
       " 'FP69',\n",
       " 'FP79',\n",
       " 'FP89',\n",
       " 'BLK60',\n",
       " 'BLK70',\n",
       " 'BLK80',\n",
       " 'BLK90',\n",
       " 'GI59',\n",
       " 'GI69',\n",
       " 'GI79',\n",
       " 'GI89',\n",
       " 'FH60',\n",
       " 'FH70',\n",
       " 'FH80',\n",
       " 'FH90']"
      ]
     },
     "execution_count": 22,
     "metadata": {},
     "output_type": "execute_result"
    }
   ],
   "source": [
    "f.header"
   ]
  },
  {
   "cell_type": "markdown",
   "metadata": {},
   "source": [
    "So, the header is a list containing the names of all of the fields we can read.\n",
    "If we just wanted to grab the data of interest, `HR90`, we can use either `by_col` or `by_col_array`, depending on the format we want the resulting data in:"
   ]
  },
  {
   "cell_type": "code",
   "execution_count": 23,
   "metadata": {},
   "outputs": [
    {
     "name": "stdout",
     "output_type": "stream",
     "text": [
      "list [0.0, 0.0, 18.31166453, 0.0, 3.6517674554]\n",
      "ndarray [[ 0.        ]\n",
      " [ 0.        ]\n",
      " [18.31166453]\n",
      " [ 0.        ]\n",
      " [ 3.65176746]]\n"
     ]
    }
   ],
   "source": [
    "HR90 = f.by_col('HR90')\n",
    "print(type(HR90).__name__, HR90[0:5])\n",
    "HR90 = f.by_col_array('HR90')\n",
    "print(type(HR90).__name__, HR90[0:5])"
   ]
  },
  {
   "cell_type": "markdown",
   "metadata": {},
   "source": [
    "As you can see, the `by_col` function returns a list of data, with no shape. It can only return one column at a time:"
   ]
  },
  {
   "cell_type": "code",
   "execution_count": 24,
   "metadata": {},
   "outputs": [
    {
     "ename": "TypeError",
     "evalue": "__call__() takes 2 positional arguments but 3 were given",
     "output_type": "error",
     "traceback": [
      "\u001b[0;31m---------------------------------------------------------------------------\u001b[0m",
      "\u001b[0;31mTypeError\u001b[0m                                 Traceback (most recent call last)",
      "\u001b[0;32m<ipython-input-24-76c38231d8a5>\u001b[0m in \u001b[0;36m<module>\u001b[0;34m\u001b[0m\n\u001b[0;32m----> 1\u001b[0;31m \u001b[0mHRs\u001b[0m \u001b[0;34m=\u001b[0m \u001b[0mf\u001b[0m\u001b[0;34m.\u001b[0m\u001b[0mby_col\u001b[0m\u001b[0;34m(\u001b[0m\u001b[0;34m'HR90'\u001b[0m\u001b[0;34m,\u001b[0m \u001b[0;34m'HR80'\u001b[0m\u001b[0;34m)\u001b[0m\u001b[0;34m\u001b[0m\u001b[0m\n\u001b[0m",
      "\u001b[0;31mTypeError\u001b[0m: __call__() takes 2 positional arguments but 3 were given"
     ]
    }
   ],
   "source": [
    "HRs = f.by_col('HR90', 'HR80')"
   ]
  },
  {
   "cell_type": "markdown",
   "metadata": {},
   "source": [
    "This error message is called a \"traceback,\" as you see in the top right, and it usually provides feedback on why the previous command did not execute correctly. Here, you see that one-too-many arguments was provided to `__call__`, which tells us we cannot pass as many arguments as we did to `by_col`.\n",
    "\n",
    "If you want to read in many columns at once and store them to an array, use `by_col_array`:"
   ]
  },
  {
   "cell_type": "code",
   "execution_count": 25,
   "metadata": {},
   "outputs": [],
   "source": [
    "HRs = f.by_col_array('HR90', 'HR80')"
   ]
  },
  {
   "cell_type": "code",
   "execution_count": 26,
   "metadata": {},
   "outputs": [
    {
     "data": {
      "text/plain": [
       "array([[ 0.        ,  0.        ],\n",
       "       [ 0.        , 10.50199538],\n",
       "       [18.31166453,  5.10386362],\n",
       "       [ 0.        ,  0.        ],\n",
       "       [ 3.65176746, 10.4297038 ],\n",
       "       [ 0.        ,  0.        ],\n",
       "       [ 0.        , 18.85369532],\n",
       "       [ 2.59514448,  6.33617194],\n",
       "       [ 0.        ,  0.        ],\n",
       "       [ 5.59753708,  6.0331825 ]])"
      ]
     },
     "execution_count": 26,
     "metadata": {},
     "output_type": "execute_result"
    }
   ],
   "source": [
    "HRs[0:10]"
   ]
  },
  {
   "cell_type": "markdown",
   "metadata": {},
   "source": [
    "It is best to use `by_col_array` on data of a single type. That is, if you read in a lot of columns, some of them numbers and some of them strings, all columns will get converted to the same datatype:"
   ]
  },
  {
   "cell_type": "code",
   "execution_count": 27,
   "metadata": {},
   "outputs": [],
   "source": [
    "allcolumns = f.by_col_array(['NAME', 'STATE_NAME', 'HR90', 'HR80'])"
   ]
  },
  {
   "cell_type": "code",
   "execution_count": 28,
   "metadata": {},
   "outputs": [
    {
     "data": {
      "text/plain": [
       "array([['Lipscomb', 'Texas', '0.0', '0.0'],\n",
       "       ['Sherman', 'Texas', '0.0', '10.501995379'],\n",
       "       ['Dallam', 'Texas', '18.31166453', '5.1038636248'],\n",
       "       ...,\n",
       "       ['Hidalgo', 'Texas', '7.3003167816', '8.2383277607'],\n",
       "       ['Willacy', 'Texas', '5.6481219994', '7.6212251119'],\n",
       "       ['Cameron', 'Texas', '12.302014455', '11.761321464']], dtype='<U13')"
      ]
     },
     "execution_count": 28,
     "metadata": {},
     "output_type": "execute_result"
    }
   ],
   "source": [
    "allcolumns"
   ]
  },
  {
   "cell_type": "markdown",
   "metadata": {},
   "source": [
    "Note that the numerical columns, `HR90` & `HR80` are now considered strings, since they show up with the single tickmarks around them, like `'0.0'`."
   ]
  },
  {
   "cell_type": "markdown",
   "metadata": {},
   "source": [
    "These methods work similarly for `.csv` files as well."
   ]
  },
  {
   "cell_type": "markdown",
   "metadata": {},
   "source": [
    "## Geopandas & pandas"
   ]
  },
  {
   "cell_type": "code",
   "execution_count": 29,
   "metadata": {},
   "outputs": [],
   "source": [
    "shp_path = ps.examples.get_path('NAT.shp')\n",
    "data_table = gpd.read_file(shp_path)"
   ]
  },
  {
   "cell_type": "markdown",
   "metadata": {},
   "source": [
    "This reads in *the entire database table* and adds a column to the end, called `geometry`, that stores the geometries read in from the shapefile. "
   ]
  },
  {
   "cell_type": "code",
   "execution_count": 30,
   "metadata": {},
   "outputs": [
    {
     "data": {
      "text/html": [
       "<div>\n",
       "<style scoped>\n",
       "    .dataframe tbody tr th:only-of-type {\n",
       "        vertical-align: middle;\n",
       "    }\n",
       "\n",
       "    .dataframe tbody tr th {\n",
       "        vertical-align: top;\n",
       "    }\n",
       "\n",
       "    .dataframe thead th {\n",
       "        text-align: right;\n",
       "    }\n",
       "</style>\n",
       "<table border=\"1\" class=\"dataframe\">\n",
       "  <thead>\n",
       "    <tr style=\"text-align: right;\">\n",
       "      <th></th>\n",
       "      <th>NAME</th>\n",
       "      <th>STATE_NAME</th>\n",
       "      <th>STATE_FIPS</th>\n",
       "      <th>CNTY_FIPS</th>\n",
       "      <th>FIPS</th>\n",
       "      <th>STFIPS</th>\n",
       "      <th>COFIPS</th>\n",
       "      <th>FIPSNO</th>\n",
       "      <th>SOUTH</th>\n",
       "      <th>HR60</th>\n",
       "      <th>...</th>\n",
       "      <th>BLK90</th>\n",
       "      <th>GI59</th>\n",
       "      <th>GI69</th>\n",
       "      <th>GI79</th>\n",
       "      <th>GI89</th>\n",
       "      <th>FH60</th>\n",
       "      <th>FH70</th>\n",
       "      <th>FH80</th>\n",
       "      <th>FH90</th>\n",
       "      <th>geometry</th>\n",
       "    </tr>\n",
       "  </thead>\n",
       "  <tbody>\n",
       "    <tr>\n",
       "      <th>0</th>\n",
       "      <td>Lake of the Woods</td>\n",
       "      <td>Minnesota</td>\n",
       "      <td>27</td>\n",
       "      <td>077</td>\n",
       "      <td>27077</td>\n",
       "      <td>27</td>\n",
       "      <td>77</td>\n",
       "      <td>27077</td>\n",
       "      <td>0</td>\n",
       "      <td>0.000000</td>\n",
       "      <td>...</td>\n",
       "      <td>0.024534</td>\n",
       "      <td>0.285235</td>\n",
       "      <td>0.372336</td>\n",
       "      <td>0.342104</td>\n",
       "      <td>0.336455</td>\n",
       "      <td>11.279621</td>\n",
       "      <td>5.4</td>\n",
       "      <td>5.663881</td>\n",
       "      <td>9.515860</td>\n",
       "      <td>POLYGON ((-95.34258270263672 48.54670333862305...</td>\n",
       "    </tr>\n",
       "    <tr>\n",
       "      <th>1</th>\n",
       "      <td>Ferry</td>\n",
       "      <td>Washington</td>\n",
       "      <td>53</td>\n",
       "      <td>019</td>\n",
       "      <td>53019</td>\n",
       "      <td>53</td>\n",
       "      <td>19</td>\n",
       "      <td>53019</td>\n",
       "      <td>0</td>\n",
       "      <td>0.000000</td>\n",
       "      <td>...</td>\n",
       "      <td>0.317712</td>\n",
       "      <td>0.256158</td>\n",
       "      <td>0.360665</td>\n",
       "      <td>0.361928</td>\n",
       "      <td>0.360640</td>\n",
       "      <td>10.053476</td>\n",
       "      <td>2.6</td>\n",
       "      <td>10.079576</td>\n",
       "      <td>11.397059</td>\n",
       "      <td>POLYGON ((-118.8505020141602 47.94968795776367...</td>\n",
       "    </tr>\n",
       "    <tr>\n",
       "      <th>2</th>\n",
       "      <td>Stevens</td>\n",
       "      <td>Washington</td>\n",
       "      <td>53</td>\n",
       "      <td>065</td>\n",
       "      <td>53065</td>\n",
       "      <td>53</td>\n",
       "      <td>65</td>\n",
       "      <td>53065</td>\n",
       "      <td>0</td>\n",
       "      <td>1.863863</td>\n",
       "      <td>...</td>\n",
       "      <td>0.210030</td>\n",
       "      <td>0.283999</td>\n",
       "      <td>0.394083</td>\n",
       "      <td>0.357566</td>\n",
       "      <td>0.369942</td>\n",
       "      <td>9.258437</td>\n",
       "      <td>5.6</td>\n",
       "      <td>6.812127</td>\n",
       "      <td>10.352015</td>\n",
       "      <td>POLYGON ((-117.4377746582031 48.04421997070312...</td>\n",
       "    </tr>\n",
       "    <tr>\n",
       "      <th>3</th>\n",
       "      <td>Okanogan</td>\n",
       "      <td>Washington</td>\n",
       "      <td>53</td>\n",
       "      <td>047</td>\n",
       "      <td>53047</td>\n",
       "      <td>53</td>\n",
       "      <td>47</td>\n",
       "      <td>53047</td>\n",
       "      <td>0</td>\n",
       "      <td>2.612330</td>\n",
       "      <td>...</td>\n",
       "      <td>0.155922</td>\n",
       "      <td>0.258540</td>\n",
       "      <td>0.371218</td>\n",
       "      <td>0.381240</td>\n",
       "      <td>0.394519</td>\n",
       "      <td>9.039900</td>\n",
       "      <td>8.1</td>\n",
       "      <td>10.084926</td>\n",
       "      <td>12.840340</td>\n",
       "      <td>POLYGON ((-118.9709625244141 47.93927764892578...</td>\n",
       "    </tr>\n",
       "    <tr>\n",
       "      <th>4</th>\n",
       "      <td>Pend Oreille</td>\n",
       "      <td>Washington</td>\n",
       "      <td>53</td>\n",
       "      <td>051</td>\n",
       "      <td>53051</td>\n",
       "      <td>53</td>\n",
       "      <td>51</td>\n",
       "      <td>53051</td>\n",
       "      <td>0</td>\n",
       "      <td>0.000000</td>\n",
       "      <td>...</td>\n",
       "      <td>0.134605</td>\n",
       "      <td>0.243263</td>\n",
       "      <td>0.365614</td>\n",
       "      <td>0.358706</td>\n",
       "      <td>0.387848</td>\n",
       "      <td>8.243930</td>\n",
       "      <td>4.1</td>\n",
       "      <td>7.557643</td>\n",
       "      <td>10.313002</td>\n",
       "      <td>POLYGON ((-117.4375 48.99999618530273, -117.03...</td>\n",
       "    </tr>\n",
       "  </tbody>\n",
       "</table>\n",
       "<p>5 rows × 70 columns</p>\n",
       "</div>"
      ],
      "text/plain": [
       "                NAME  STATE_NAME STATE_FIPS CNTY_FIPS   FIPS  STFIPS  COFIPS  \\\n",
       "0  Lake of the Woods   Minnesota         27       077  27077      27      77   \n",
       "1              Ferry  Washington         53       019  53019      53      19   \n",
       "2            Stevens  Washington         53       065  53065      53      65   \n",
       "3           Okanogan  Washington         53       047  53047      53      47   \n",
       "4       Pend Oreille  Washington         53       051  53051      53      51   \n",
       "\n",
       "   FIPSNO  SOUTH      HR60                        ...                          \\\n",
       "0   27077      0  0.000000                        ...                           \n",
       "1   53019      0  0.000000                        ...                           \n",
       "2   53065      0  1.863863                        ...                           \n",
       "3   53047      0  2.612330                        ...                           \n",
       "4   53051      0  0.000000                        ...                           \n",
       "\n",
       "      BLK90      GI59      GI69      GI79      GI89       FH60  FH70  \\\n",
       "0  0.024534  0.285235  0.372336  0.342104  0.336455  11.279621   5.4   \n",
       "1  0.317712  0.256158  0.360665  0.361928  0.360640  10.053476   2.6   \n",
       "2  0.210030  0.283999  0.394083  0.357566  0.369942   9.258437   5.6   \n",
       "3  0.155922  0.258540  0.371218  0.381240  0.394519   9.039900   8.1   \n",
       "4  0.134605  0.243263  0.365614  0.358706  0.387848   8.243930   4.1   \n",
       "\n",
       "        FH80       FH90                                           geometry  \n",
       "0   5.663881   9.515860  POLYGON ((-95.34258270263672 48.54670333862305...  \n",
       "1  10.079576  11.397059  POLYGON ((-118.8505020141602 47.94968795776367...  \n",
       "2   6.812127  10.352015  POLYGON ((-117.4377746582031 48.04421997070312...  \n",
       "3  10.084926  12.840340  POLYGON ((-118.9709625244141 47.93927764892578...  \n",
       "4   7.557643  10.313002  POLYGON ((-117.4375 48.99999618530273, -117.03...  \n",
       "\n",
       "[5 rows x 70 columns]"
      ]
     },
     "execution_count": 30,
     "metadata": {},
     "output_type": "execute_result"
    }
   ],
   "source": [
    "data_table.head()"
   ]
  },
  {
   "cell_type": "markdown",
   "metadata": {},
   "source": [
    "The `read_file` function only works on shapefile/dbf pairs. If you need to read in data using CSVs, use pandas directly:"
   ]
  },
  {
   "cell_type": "code",
   "execution_count": null,
   "metadata": {},
   "outputs": [],
   "source": [
    "csv_path = ps.examples.get_path('usjoin.csv')\n",
    "usjoin = pd.read_csv(csv_path)\n",
    "#usjoin = ps.pdio.read_files(csv_path) #will not work, not a shp/dbf pair"
   ]
  },
  {
   "cell_type": "code",
   "execution_count": null,
   "metadata": {},
   "outputs": [],
   "source": [
    "gpd.read_file(csv_path)"
   ]
  },
  {
   "cell_type": "code",
   "execution_count": null,
   "metadata": {},
   "outputs": [],
   "source": [
    "usjoin.head()"
   ]
  },
  {
   "cell_type": "markdown",
   "metadata": {},
   "source": [
    "The nice thing about working with geopandas dataframes is that they have very powerful baked-in support for relational-style queries. By this, I mean that it is very easy to find things like:\n",
    "\n",
    "The number of counties in each state:"
   ]
  },
  {
   "cell_type": "code",
   "execution_count": null,
   "metadata": {},
   "outputs": [],
   "source": [
    "data_table.groupby(\"STATE_NAME\").size()"
   ]
  },
  {
   "cell_type": "markdown",
   "metadata": {},
   "source": [
    "Or, to get the rows of the table that are in Arizona, we can use the `query` function of the dataframe:"
   ]
  },
  {
   "cell_type": "code",
   "execution_count": null,
   "metadata": {},
   "outputs": [],
   "source": [
    "data_table.query('STATE_NAME == \"Arizona\"')"
   ]
  },
  {
   "cell_type": "markdown",
   "metadata": {},
   "source": [
    "Behind the scenes, this uses a fast vectorized library, `numexpr`, to essentially do the following. \n",
    "\n",
    "First, compare each row's `STATE_NAME` column to `'Arizona'` and return `True` if the row matches:"
   ]
  },
  {
   "cell_type": "code",
   "execution_count": null,
   "metadata": {},
   "outputs": [],
   "source": [
    "data_table.STATE_NAME == 'Arizona'"
   ]
  },
  {
   "cell_type": "markdown",
   "metadata": {},
   "source": [
    "Then, use that to filter out rows where the condition is true:"
   ]
  },
  {
   "cell_type": "code",
   "execution_count": null,
   "metadata": {},
   "outputs": [],
   "source": [
    "data_table[data_table.STATE_NAME == 'Arizona']"
   ]
  },
  {
   "cell_type": "markdown",
   "metadata": {},
   "source": [
    "We might need this behind the scenes knowledge when we want to chain together conditions, or when we need to do spatial queries. \n",
    "\n",
    "This is because spatial queries are somewhat more complex. Let's say, for example, we want all of the counties in the US to the West of `-121` longitude. We need a way to express that question. Ideally, we want something like:\n",
    "\n",
    "```\n",
    "SELECT\n",
    "        *\n",
    "FROM\n",
    "        data_table\n",
    "WHERE\n",
    "        x_centroid < -121\n",
    "```"
   ]
  },
  {
   "cell_type": "markdown",
   "metadata": {},
   "source": [
    "So, let's refer to an arbitrary polygon in the the dataframe's geometry column as `poly`. We can acquire the centroid of the polygon as a shapely Point. Then we can acquire the coordinates of the point. The longitude is the first element of the pair of the coordinates. \n",
    "\n",
    "Then, applying this condition to each geometry, we get the same kind of filter we used above to grab only counties in Arizona:"
   ]
  },
  {
   "cell_type": "code",
   "execution_count": null,
   "metadata": {},
   "outputs": [],
   "source": [
    "type(data_table.geometry[0].centroid)"
   ]
  },
  {
   "cell_type": "code",
   "execution_count": null,
   "metadata": {},
   "outputs": [],
   "source": [
    "list(data_table.geometry[0].centroid.coords)"
   ]
  },
  {
   "cell_type": "code",
   "execution_count": null,
   "metadata": {},
   "outputs": [],
   "source": [
    "data_table.geometry.apply(lambda x: x.centroid.coords[0][0] < -121)\\\n",
    "                   .head()"
   ]
  },
  {
   "cell_type": "markdown",
   "metadata": {},
   "source": [
    "If we use this as a filter on the table, we can get only the rows that match that condition, just like we did for the `STATE_NAME` query:"
   ]
  },
  {
   "cell_type": "code",
   "execution_count": null,
   "metadata": {},
   "outputs": [],
   "source": [
    "data_table[data_table.geometry.apply(lambda x: x.centroid.coords[0][0] < -119)].head()"
   ]
  },
  {
   "cell_type": "code",
   "execution_count": null,
   "metadata": {},
   "outputs": [],
   "source": [
    "len(data_table[data_table.geometry.apply(lambda x: x.centroid.coords[0][0] < -119)]) #how many west of -119?"
   ]
  },
  {
   "cell_type": "markdown",
   "metadata": {},
   "source": [
    "## Other types of spatial queries\n",
    "\n",
    "Everybody knows the following statements are true:\n",
    "\n",
    "1. If you head directly west from Reno, Nevada, you will shortly enter California.\n",
    "2. San Diego is in California.\n",
    "\n",
    "But what does this tell us about the location of San Diego relative to Reno?\n",
    "\n",
    "Or for that matter, how many counties in California are to the east of Reno?\n",
    "\n",
    "\n",
    "\n"
   ]
  },
  {
   "cell_type": "code",
   "execution_count": null,
   "metadata": {},
   "outputs": [],
   "source": [
    "geom = data_table.query('(NAME == \"Washoe\") & (STATE_NAME == \"Nevada\")').geometry"
   ]
  },
  {
   "cell_type": "code",
   "execution_count": null,
   "metadata": {},
   "outputs": [],
   "source": [
    "geom.values[0]"
   ]
  },
  {
   "cell_type": "code",
   "execution_count": null,
   "metadata": {},
   "outputs": [],
   "source": [
    "geom.values[0].centroid"
   ]
  },
  {
   "cell_type": "code",
   "execution_count": null,
   "metadata": {},
   "outputs": [],
   "source": [
    "lon,lat = geom.values[0].centroid.coords[0]"
   ]
  },
  {
   "cell_type": "code",
   "execution_count": null,
   "metadata": {},
   "outputs": [],
   "source": [
    "lon"
   ]
  },
  {
   "cell_type": "code",
   "execution_count": null,
   "metadata": {},
   "outputs": [],
   "source": [
    "cal_counties = data_table.query('(STATE_NAME==\"California\")')"
   ]
  },
  {
   "cell_type": "code",
   "execution_count": null,
   "metadata": {
    "scrolled": false
   },
   "outputs": [],
   "source": [
    "cal_counties[cal_counties.geometry.apply(lambda x: x.centroid.coords[0][0] > lon)]"
   ]
  },
  {
   "cell_type": "code",
   "execution_count": null,
   "metadata": {},
   "outputs": [],
   "source": [
    "len(cal_counties)"
   ]
  },
  {
   "cell_type": "markdown",
   "metadata": {},
   "source": [
    "This works on any type of spatial query. \n",
    "\n",
    "For instance, if we wanted to find all of the counties that are within a threshold distance from an observation's centroid, we can do it in the following way. \n",
    "\n",
    "But first, we need to handle distance calculations on the earth's surface."
   ]
  },
  {
   "cell_type": "code",
   "execution_count": null,
   "metadata": {},
   "outputs": [],
   "source": [
    "from math import radians, sin, cos, sqrt, asin\n",
    "\n",
    "def gcd(loc1, loc2, R=3961):\n",
    "    \"\"\"Great circle distance via Haversine formula\n",
    "    \n",
    "    Parameters\n",
    "    ----------\n",
    "    \n",
    "    loc1: tuple (long, lat in decimal degrees)\n",
    "    \n",
    "    loc2: tuple (long, lat in decimal degrees)\n",
    "    \n",
    "    R: Radius of the earth (3961 miles, 6367 km)\n",
    "    \n",
    "    Returns\n",
    "    -------\n",
    "    great circle distance between loc1 and loc2 in units of R\n",
    "    \n",
    "    \n",
    "    Notes\n",
    "    ------\n",
    "    Does not take into account non-spheroidal shape of the Earth\n",
    "    \n",
    "    \n",
    "    \n",
    "    >>> san_diego = -117.1611, 32.7157\n",
    "    >>> austin = -97.7431, 30.2672\n",
    "    >>> gcd(san_diego, austin)\n",
    "    1155.474644164695\n",
    "  \n",
    "    \n",
    "    \"\"\"\n",
    "    lon1, lat1 = loc1\n",
    "    lon2, lat2 = loc2\n",
    "    dLat = radians(lat2 - lat1)\n",
    "    dLon = radians(lon2 - lon1)\n",
    "    lat1 = radians(lat1)\n",
    "    lat2 = radians(lat2)\n",
    " \n",
    "    a = sin(dLat/2)**2 + cos(lat1)*cos(lat2)*sin(dLon/2)**2\n",
    "    c = 2*asin(sqrt(a))\n",
    "\n",
    "    return R * c\n",
    " \n",
    "def gcdm(loc1, loc2):\n",
    "    return gcd(loc1, loc2)\n",
    "\n",
    "def gcdk(loc1, loc2):\n",
    "    return gcd(loc1, loc2, 6367 )"
   ]
  },
  {
   "cell_type": "code",
   "execution_count": null,
   "metadata": {},
   "outputs": [],
   "source": [
    "san_diego = -117.1611, 32.7157\n",
    "austin = -97.7431, 30.2672\n",
    "gcd(san_diego, austin)"
   ]
  },
  {
   "cell_type": "code",
   "execution_count": null,
   "metadata": {},
   "outputs": [],
   "source": [
    "gcdk(san_diego, austin)"
   ]
  },
  {
   "cell_type": "code",
   "execution_count": null,
   "metadata": {},
   "outputs": [],
   "source": [
    "loc1 = (-117.1611, 0.0)\n",
    "loc2 = (-118.1611, 0.0)\n",
    "gcd(loc1, loc2)"
   ]
  },
  {
   "cell_type": "code",
   "execution_count": null,
   "metadata": {},
   "outputs": [],
   "source": [
    "loc1 = (-117.1611, 45.0)\n",
    "loc2 = (-118.1611, 45.0)\n",
    "gcd(loc1, loc2)"
   ]
  },
  {
   "cell_type": "code",
   "execution_count": null,
   "metadata": {},
   "outputs": [],
   "source": [
    "loc1 = (-117.1611, 89.0)\n",
    "loc2 = (-118.1611, 89.0)\n",
    "gcd(loc1, loc2)"
   ]
  },
  {
   "cell_type": "code",
   "execution_count": null,
   "metadata": {},
   "outputs": [],
   "source": [
    "lats = range(0, 91)\n",
    "onedeglon = [ gcd((-117.1611,lat),(-118.1611,lat)) for lat in lats]"
   ]
  },
  {
   "cell_type": "code",
   "execution_count": null,
   "metadata": {},
   "outputs": [],
   "source": [
    "import matplotlib.pyplot as plt\n",
    "%matplotlib inline\n",
    "plt.plot(lats, onedeglon)\n",
    "plt.ylabel('miles')\n",
    "plt.xlabel('degree of latitude')\n",
    "plt.title('Length of a degree of longitude')"
   ]
  },
  {
   "cell_type": "code",
   "execution_count": null,
   "metadata": {},
   "outputs": [],
   "source": [
    "san_diego = -117.1611, 32.7157\n",
    "austin = -97.7431, 30.2672\n",
    "gcd(san_diego, austin)"
   ]
  },
  {
   "cell_type": "markdown",
   "metadata": {},
   "source": [
    "Now we can use our distance function to pose distance-related queries on our data table."
   ]
  },
  {
   "cell_type": "code",
   "execution_count": null,
   "metadata": {},
   "outputs": [],
   "source": [
    "# Find all the counties with centroids within 50 miles of Austin\n",
    "def near_target_point(polygon, target=austin, threshold=50):\n",
    "    return gcd(polygon.centroid.coords[0], target) < threshold \n",
    "\n",
    "data_table[data_table.geometry.apply(near_target_point)]"
   ]
  },
  {
   "cell_type": "markdown",
   "metadata": {},
   "source": [
    "### Moving in and out of the dataframe"
   ]
  },
  {
   "cell_type": "markdown",
   "metadata": {},
   "source": [
    "Most things in PySAL will be explicit about what type their input should be. Most of the time, PySAL functions require either lists or arrays. This is why the file-handler methods are the default IO method in PySAL: the rest of the computational tools are built around their datatypes. \n",
    "\n",
    "However, it is very easy to get the correct datatype from Pandas or Geopandas using the `values` and `tolist` commands. \n",
    "\n",
    "`tolist()` will convert its entries to a list. But, it can only be called on individual columns (called `Series` in `pandas` documentation).\n",
    "\n",
    "So, to turn the `NAME` column into a list:"
   ]
  },
  {
   "cell_type": "code",
   "execution_count": null,
   "metadata": {},
   "outputs": [],
   "source": [
    "data_table.NAME.tolist()[0:10]"
   ]
  },
  {
   "cell_type": "markdown",
   "metadata": {},
   "source": [
    "To extract many columns, you must select the columns you want and call their `.values` attribute. \n",
    "\n",
    "If we were interested in grabbing all of the `HR` variables in the dataframe, we could first select those column names:"
   ]
  },
  {
   "cell_type": "code",
   "execution_count": null,
   "metadata": {},
   "outputs": [],
   "source": [
    "HRs = [col for col in data_table.columns if col.startswith('HR')]\n",
    "HRs"
   ]
  },
  {
   "cell_type": "markdown",
   "metadata": {},
   "source": [
    "We can use this to focus only on the columns we want:"
   ]
  },
  {
   "cell_type": "code",
   "execution_count": null,
   "metadata": {
    "scrolled": false
   },
   "outputs": [],
   "source": [
    "data_table[HRs].head()"
   ]
  },
  {
   "cell_type": "markdown",
   "metadata": {},
   "source": [
    "With this, calling `.values` gives an array containing all of the entries in this subset of the table:"
   ]
  },
  {
   "cell_type": "code",
   "execution_count": null,
   "metadata": {},
   "outputs": [],
   "source": [
    "data_table[['HR90', 'HR80']].values"
   ]
  },
  {
   "cell_type": "markdown",
   "metadata": {},
   "source": [
    "## Exercises\n",
    "\n",
    "1. Find the county with the western most centroid that is within 1000 miles of Austin.\n",
    "2. Find the distance between Austin and that centroid."
   ]
  },
  {
   "cell_type": "code",
   "execution_count": null,
   "metadata": {},
   "outputs": [],
   "source": []
  },
  {
   "cell_type": "code",
   "execution_count": null,
   "metadata": {},
   "outputs": [],
   "source": []
  },
  {
   "cell_type": "code",
   "execution_count": null,
   "metadata": {},
   "outputs": [],
   "source": []
  },
  {
   "cell_type": "code",
   "execution_count": null,
   "metadata": {},
   "outputs": [],
   "source": []
  },
  {
   "cell_type": "code",
   "execution_count": null,
   "metadata": {},
   "outputs": [],
   "source": []
  },
  {
   "cell_type": "markdown",
   "metadata": {},
   "source": [
    "## Solutions"
   ]
  },
  {
   "cell_type": "code",
   "execution_count": null,
   "metadata": {},
   "outputs": [],
   "source": [
    "austin_lon = austin[0]\n",
    "west = data_table[data_table.geometry.apply(lambda x: x.centroid.coords[0][0] < austin_lon)]\n"
   ]
  },
  {
   "cell_type": "code",
   "execution_count": null,
   "metadata": {},
   "outputs": [],
   "source": [
    "def near_target_point(polygon, target=austin, threshold=1000):\n",
    "    return gcd(polygon.centroid.coords[0], target) <= threshold \n",
    "\n",
    "west_lt_1000 = west[west.geometry.apply(near_target_point)]"
   ]
  },
  {
   "cell_type": "code",
   "execution_count": null,
   "metadata": {},
   "outputs": [],
   "source": [
    "maxd = 0.\n",
    "county = None\n",
    "for i,row in west_lt_1000.iterrows():\n",
    "    d = gcd(row['geometry'].centroid.coords[0], austin)\n",
    "    if d > maxd:\n",
    "        county = row['NAME']\n",
    "        state = row['STATE_NAME']\n",
    "        maxd = d\n",
    "\n",
    "print('Centroid of %s, %s is %f miles west of Austin'%(county, state, maxd))"
   ]
  },
  {
   "cell_type": "code",
   "execution_count": null,
   "metadata": {},
   "outputs": [],
   "source": []
  },
  {
   "cell_type": "code",
   "execution_count": null,
   "metadata": {},
   "outputs": [],
   "source": []
  }
 ],
 "metadata": {
  "anaconda-cloud": {},
  "kernelspec": {
   "display_name": "Python 3",
   "language": "python",
   "name": "python3"
  },
  "language_info": {
   "codemirror_mode": {
    "name": "ipython",
    "version": 3
   },
   "file_extension": ".py",
   "mimetype": "text/x-python",
   "name": "python",
   "nbconvert_exporter": "python",
   "pygments_lexer": "ipython3",
   "version": "3.6.6"
  }
 },
 "nbformat": 4,
 "nbformat_minor": 2
}
