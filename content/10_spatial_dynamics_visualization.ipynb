{
 "cells": [
  {
   "cell_type": "markdown",
   "metadata": {},
   "source": [
    "# Exploratory Spatial and Temporal Data Analysis (ESTDA) - Visualization\n",
    "   "
   ]
  },
  {
   "cell_type": "code",
   "execution_count": null,
   "metadata": {},
   "outputs": [],
   "source": [
    "from pysal.lib import io, examples, weights"
   ]
  },
  {
   "cell_type": "code",
   "execution_count": null,
   "metadata": {},
   "outputs": [],
   "source": [
    "import matplotlib\n",
    "import numpy as np\n",
    "import pandas as pd\n",
    "import matplotlib.pyplot as plt\n",
    "%matplotlib inline\n",
    "import seaborn as sns"
   ]
  },
  {
   "cell_type": "markdown",
   "metadata": {},
   "source": [
    "Load example dataset in **pysal**: nominal per capita incomes observed annually from 1929 to 2009 for the lower 48 US states. Downloaded from [US Bureau of Economic Analysis](https://www.bea.gov)."
   ]
  },
  {
   "cell_type": "code",
   "execution_count": null,
   "metadata": {},
   "outputs": [],
   "source": [
    "pdUS = pd.read_csv(examples.get_path('usjoin.csv'))\n",
    "pdUS.head()"
   ]
  },
  {
   "cell_type": "markdown",
   "metadata": {},
   "source": [
    "## Visualization \n",
    "\n",
    "* Temporal dynamics"
   ]
  },
  {
   "cell_type": "code",
   "execution_count": null,
   "metadata": {},
   "outputs": [],
   "source": [
    "names = pdUS[\"Name\"].values\n",
    "names"
   ]
  },
  {
   "cell_type": "code",
   "execution_count": null,
   "metadata": {},
   "outputs": [],
   "source": [
    "years = range(1929,2010)\n",
    "pd_pci = pdUS[list(map(str,years))]\n",
    "pd_pci.head()"
   ]
  },
  {
   "cell_type": "code",
   "execution_count": null,
   "metadata": {},
   "outputs": [],
   "source": [
    "pd_pci.index = names\n",
    "pd_pci.head()"
   ]
  },
  {
   "cell_type": "code",
   "execution_count": null,
   "metadata": {
    "scrolled": true
   },
   "outputs": [],
   "source": [
    "pd_pci = pd_pci.T\n",
    "pd_pci.head()"
   ]
  },
  {
   "cell_type": "code",
   "execution_count": null,
   "metadata": {},
   "outputs": [],
   "source": [
    "pd_pci.plot(legend=None)"
   ]
  },
  {
   "cell_type": "code",
   "execution_count": null,
   "metadata": {},
   "outputs": [],
   "source": [
    "order1929 = np.argsort(pdUS[\"1929\"])\n",
    "order2009 = np.argsort(pdUS[\"2009\"])\n",
    "names1929 = names[order1929[::-1]]\n",
    "names2009 = names[order2009[::-1]]\n",
    "first_last = np.vstack((names[order1929[::-1]],names[order2009[::-1]]))\n",
    "from pylab import rcParams\n",
    "#sns.set_palette(sns.color_palette(\"Set1\", 2010-1929))\n",
    "rcParams['figure.figsize'] = 15,10\n",
    "plt.plot(years,pd_pci.as_matrix())\n",
    "#pd_pci.plot(legend=None)\n",
    "for i in range(48):\n",
    "    plt.text(1915,pd_pci.values.max()-500-(i*1159), names1929[i],fontsize=12)\n",
    "    plt.text(2010.5,pd_pci.values.max()-500-(i*1159), names2009[i],fontsize=12)\n",
    "plt.xlim((years[0], years[-1]))\n",
    "plt.ylim((0, pd_pci.values.max()))\n",
    "plt.ylabel(\"Per capita income (Nominal dollar)\",fontsize=14,color=\"r\")\n",
    "plt.xlabel('Year',fontsize=12)\n",
    "plt.title('Absolute Dynamics',fontsize=18)"
   ]
  },
  {
   "cell_type": "markdown",
   "metadata": {},
   "source": [
    "* Distribution dynamics"
   ]
  },
  {
   "cell_type": "code",
   "execution_count": null,
   "metadata": {},
   "outputs": [],
   "source": [
    "import seaborn as sns\n",
    "plt.figure(figsize=(8,7))\n",
    "sns.kdeplot(pdUS[\"1929\"], color=\"b\") \n",
    "sns.kdeplot(pdUS[\"2009\"], color=\"R\")\n",
    "plt.legend(facecolor=\"white\")"
   ]
  },
  {
   "cell_type": "code",
   "execution_count": null,
   "metadata": {
    "scrolled": true
   },
   "outputs": [],
   "source": [
    "sns.set_palette(sns.color_palette(\"coolwarm\", 2010-1929))\n",
    "plt.figure(figsize=(10,8))\n",
    "for i in range(2010-1929):\n",
    "    sns.kdeplot(pd_pci.T[str(i+1929)],legend=False)\n",
    "plt.xlabel(\"Per capita income (Nominal dollar)\",fontsize=14,color=\"r\")"
   ]
  },
  {
   "cell_type": "markdown",
   "metadata": {},
   "source": [
    "### Per capita income dynamics in constant dollar 2009 - structural mobility\n",
    "\n",
    "We need to adjust for price change over years for a valid temporal comparison. First we acquire [Historical Consumer Price Index for All Urban Consumers (CPI-U)](https://www.bls.gov/cpi/tables/historical-cpi-u-201709.pdf) from [US Bureau of labor Statistics](https://www.bls.gov/home.htm). \n"
   ]
  },
  {
   "cell_type": "code",
   "execution_count": null,
   "metadata": {},
   "outputs": [],
   "source": [
    "pd_cpi = pd.read_csv(\"data/CPI1913-2016.csv\")\n",
    "pd_cpi.head()"
   ]
  },
  {
   "cell_type": "code",
   "execution_count": null,
   "metadata": {},
   "outputs": [],
   "source": [
    "pd_cpi.index = pd_cpi[\"year\"].as_matrix()\n",
    "pd_cpi = pd_cpi.drop([\"year\"],axis=1)\n",
    "pd_cpi.head()"
   ]
  },
  {
   "cell_type": "code",
   "execution_count": null,
   "metadata": {},
   "outputs": [],
   "source": [
    "pd_cpi2909 = pd_cpi.loc[years]\n",
    "pd_cpi2909"
   ]
  },
  {
   "cell_type": "code",
   "execution_count": null,
   "metadata": {},
   "outputs": [],
   "source": [
    "deflator = (pd_cpi2909.loc[2009]/pd_cpi2909).T.values[0]\n",
    "deflator"
   ]
  },
  {
   "cell_type": "code",
   "execution_count": null,
   "metadata": {},
   "outputs": [],
   "source": [
    "real_2909 = np.dot(np.diag(deflator),pd_pci.values)\n",
    "real_2909"
   ]
  },
  {
   "cell_type": "code",
   "execution_count": null,
   "metadata": {},
   "outputs": [],
   "source": [
    "pd_real_2909 = pdUS.copy()\n",
    "for year in years:\n",
    "    pd_real_2909[str(year)] = real_2909[year-1929,:]\n",
    "pd_real_2909.head()"
   ]
  },
  {
   "cell_type": "code",
   "execution_count": null,
   "metadata": {},
   "outputs": [],
   "source": [
    "pd_real_2909.to_csv(\"data/US_state_pci_constant09_1929_2009.csv\")"
   ]
  },
  {
   "cell_type": "code",
   "execution_count": null,
   "metadata": {},
   "outputs": [],
   "source": [
    "from pylab import rcParams\n",
    "sns.set_palette(sns.color_palette(\"Set1\", 2010-1929))\n",
    "rcParams['figure.figsize'] = 15,10\n",
    "plt.plot(years,real_2909)\n",
    "#pd_pci.plot(legend=None)\n",
    "for i in range(48):\n",
    "    plt.text(1915,real_2909.max()-700-(i*1189), names1929[i],fontsize=12)\n",
    "    plt.text(2010.5,real_2909.max()-700-(i*1189), names2009[i],fontsize=12)\n",
    "plt.xlim((years[0], years[-1]))\n",
    "plt.ylim((0, real_2909.max()))\n",
    "plt.ylabel(r\"$y_{i,t}$\",fontsize=14)\n",
    "plt.ylabel(\"Per capita income (Constant Dollar 2009)\",fontsize=14,color=\"r\")\n",
    "plt.xlabel('Year',fontsize=12)\n"
   ]
  },
  {
   "cell_type": "markdown",
   "metadata": {},
   "source": [
    "Dynamics of the income distribution over time (kernel densities)"
   ]
  },
  {
   "cell_type": "code",
   "execution_count": null,
   "metadata": {
    "scrolled": true
   },
   "outputs": [],
   "source": [
    "sns.set_palette(sns.color_palette(\"coolwarm\", 2010-1929))\n",
    "plt.figure(figsize=(10,8))\n",
    "plt.xlabel(\"Per capita income (Constant Dollar 2009)\",fontsize=14,color=\"r\")\n",
    "for i in range(2010-1929):\n",
    "    sns.kdeplot(real_2909[i],legend=False)"
   ]
  },
  {
   "cell_type": "markdown",
   "metadata": {},
   "source": [
    "We can also use [FacetGrid](https://seaborn.pydata.org/generated/seaborn.FacetGrid.html#seaborn.FacetGrid) from seaborn to visualize the cross-sectional densities over time."
   ]
  },
  {
   "cell_type": "code",
   "execution_count": null,
   "metadata": {},
   "outputs": [],
   "source": [
    "pd_real_long = pd.DataFrame(data=real_2909,columns=names)\n",
    "pd_real_long.index = pd_pci.index\n",
    "pd_real_long = pd_real_long.stack()\n",
    "pd_real_long.index.names = ['year', 'state']\n",
    "pd_real_long = pd_real_long.reset_index(name='pci')\n",
    "\n",
    "sns.set(style=\"white\", rc={\"axes.facecolor\": (0, 0, 0, 0)})\n",
    "sns.set_palette(sns.color_palette(\"coolwarm\", 2010-1929))\n",
    "#pal = sns.cubehelix_palette(2010-1929, rot=-.25, light=.7)\n",
    "g = sns.FacetGrid(pd_real_long, row=\"year\", hue=\"year\", aspect=15, height=0.5)\n",
    "\n",
    "# Draw the densities in a few steps\n",
    "g.map(sns.kdeplot, \"pci\", clip_on=False, shade=True, alpha=1, lw=1.5)\n",
    "#g.map(sns.kdeplot, \"pci\", clip_on=False, color=\"w\")\n",
    "g.map(plt.axhline, y=0, lw=2, clip_on=False)\n",
    "\n",
    "# Define and use a simple function to label the plot in axes coordinates\n",
    "def label(x, color, label):\n",
    "    ax = plt.gca()\n",
    "    ax.text(0, .2, label, fontweight=\"bold\", color=color,\n",
    "            ha=\"left\", va=\"center\", transform=ax.transAxes)\n",
    "\n",
    "\n",
    "g.map(label, \"year\")\n",
    "\n",
    "# Set the subplots to overlap\n",
    "g.fig.subplots_adjust(hspace=-.25)\n",
    "\n",
    "# Remove axes details that don't play well with overlap\n",
    "g.set_titles(\"\")\n",
    "g.set(yticks=[])\n",
    "g.despine(bottom=True, left=True)"
   ]
  },
  {
   "cell_type": "code",
   "execution_count": null,
   "metadata": {},
   "outputs": [],
   "source": []
  },
  {
   "cell_type": "markdown",
   "metadata": {},
   "source": [
    "### Relative per capita income dynamics - exchange mobility"
   ]
  },
  {
   "cell_type": "code",
   "execution_count": null,
   "metadata": {},
   "outputs": [],
   "source": [
    "mean = pd_pci.values.mean(axis=1)\n",
    "mean.shape = (len(mean),1)"
   ]
  },
  {
   "cell_type": "code",
   "execution_count": null,
   "metadata": {},
   "outputs": [],
   "source": [
    "rpci = pd_pci.values/mean\n",
    "rpci"
   ]
  },
  {
   "cell_type": "code",
   "execution_count": null,
   "metadata": {},
   "outputs": [],
   "source": [
    "from pylab import rcParams\n",
    "sns.set_palette(sns.color_palette(\"Set1\", 2010-1929))\n",
    "rcParams['figure.figsize'] = 15,10\n",
    "plt.plot(years,rpci)\n",
    "#pd_pci.plot(legend=None)\n",
    "for i in range(48):\n",
    "    plt.text(1915,rpci.max()-(i*0.042), names1929[i],fontsize=12)\n",
    "    plt.text(2010.5,rpci.max()-(i*0.042), names2009[i],fontsize=12)\n",
    "plt.xlim((years[0], years[-1]))\n",
    "plt.ylim((0, rpci.max()))\n",
    "plt.ylabel(\"Relative Per capita income (mean-normalized)\",fontsize=14,color=\"r\")\n",
    "plt.xlabel('Year',fontsize=12)"
   ]
  },
  {
   "cell_type": "code",
   "execution_count": null,
   "metadata": {},
   "outputs": [],
   "source": [
    "sns.set_palette(sns.color_palette(\"coolwarm\", 2010-1929))\n",
    "plt.figure(figsize=(10,8))\n",
    "for i in range(2010-1929):\n",
    "    sns.kdeplot(rpci[i],legend=False)\n",
    "plt.xlabel(\"Relative Per capita income (mean-normalized)\",fontsize=14,color=\"r\")"
   ]
  },
  {
   "cell_type": "code",
   "execution_count": null,
   "metadata": {},
   "outputs": [],
   "source": [
    "pd_rpci_long = pd.DataFrame(data=rpci,columns=names)\n",
    "pd_rpci_long.index = pd_pci.index\n",
    "pd_rpci_long = pd_rpci_long.stack()\n",
    "pd_rpci_long.index.names = ['year', 'state']\n",
    "pd_rpci_long = pd_rpci_long.reset_index(name='pci')\n",
    "\n",
    "sns.set_palette(sns.color_palette(\"coolwarm\", 2010-1929))\n",
    "g = sns.FacetGrid(pd_rpci_long, row=\"year\", hue=\"year\", aspect=15, height=0.5)\n",
    "\n",
    "# Draw the densities in a few steps\n",
    "g.map(sns.kdeplot, \"pci\", clip_on=False, shade=True)\n",
    "#g.map(sns.kdeplot, \"pci\", clip_on=False, color=\"w\")\n",
    "g.map(plt.axhline, y=0, lw=2, clip_on=False)\n",
    "\n",
    "# Define and use a simple function to label the plot in axes coordinates\n",
    "def label(x, color, label):\n",
    "    ax = plt.gca()\n",
    "    ax.text(0, .2, label, fontweight=\"bold\", color=color,\n",
    "            ha=\"left\", va=\"center\", transform=ax.transAxes)\n",
    "\n",
    "\n",
    "g.map(label, \"year\")\n",
    "\n",
    "# Set the subplots to overlap\n",
    "g.fig.subplots_adjust(hspace=-.25)\n",
    "\n",
    "# Remove axes details that don't play well with overlap\n",
    "g.set_titles(\"\")\n",
    "g.set(yticks=[])\n",
    "g.despine(bottom=True, left=True)"
   ]
  },
  {
   "cell_type": "markdown",
   "metadata": {},
   "source": [
    "### Spatial-temporal dynamics visualization"
   ]
  },
  {
   "cell_type": "code",
   "execution_count": null,
   "metadata": {},
   "outputs": [],
   "source": [
    "import geopandas as gpd\n",
    "geo_table = gpd.read_file(examples.get_path('us48.shp'))\n",
    "income_table = pd.read_csv(examples.get_path(\"usjoin.csv\"))\n",
    "complete_table = geo_table.merge(income_table,left_on='STATE_NAME',right_on='Name')\n",
    "complete_table.head()"
   ]
  },
  {
   "cell_type": "code",
   "execution_count": null,
   "metadata": {},
   "outputs": [],
   "source": [
    "sns.set(style=\"white\")\n",
    "index_year = range(1929,2010,15)\n",
    "fig, axes = plt.subplots(nrows=2, ncols=3,figsize = (15,7))\n",
    "for i in range(2):\n",
    "    for j in range(3):\n",
    "        ax = axes[i,j]\n",
    "        complete_table.plot(ax=ax, column=str(index_year[i*3+j]), cmap='OrRd', scheme='quantiles', legend=True)\n",
    "        ax.set_title('Per Capita Income %s Quintiles'%str(index_year[i*3+j]))\n",
    "        ax.axis('off')\n",
    "        leg = ax.get_legend()\n",
    "        leg.set_bbox_to_anchor((0.8, 0.15, 0.16, 0.2))\n",
    "plt.tight_layout()"
   ]
  },
  {
   "cell_type": "code",
   "execution_count": null,
   "metadata": {},
   "outputs": [],
   "source": []
  },
  {
   "cell_type": "code",
   "execution_count": null,
   "metadata": {},
   "outputs": [],
   "source": []
  },
  {
   "cell_type": "code",
   "execution_count": null,
   "metadata": {},
   "outputs": [],
   "source": []
  },
  {
   "cell_type": "code",
   "execution_count": null,
   "metadata": {},
   "outputs": [],
   "source": []
  },
  {
   "cell_type": "code",
   "execution_count": null,
   "metadata": {},
   "outputs": [],
   "source": []
  }
 ],
 "metadata": {
  "anaconda-cloud": {},
  "kernelspec": {
   "display_name": "Python 3",
   "language": "python",
   "name": "python3"
  },
  "language_info": {
   "codemirror_mode": {
    "name": "ipython",
    "version": 3
   },
   "file_extension": ".py",
   "mimetype": "text/x-python",
   "name": "python",
   "nbconvert_exporter": "python",
   "pygments_lexer": "ipython3",
   "version": "3.6.7"
  }
 },
 "nbformat": 4,
 "nbformat_minor": 2
}
