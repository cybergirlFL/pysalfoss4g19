{
 "cells": [
  {
   "cell_type": "code",
   "execution_count": null,
   "metadata": {},
   "outputs": [],
   "source": [
    "%pylab inline\n",
    "import pysal as ps\n",
    "import numpy as np"
   ]
  },
  {
   "cell_type": "code",
   "execution_count": null,
   "metadata": {},
   "outputs": [],
   "source": [
    "ps.examples.explain('mexico')"
   ]
  },
  {
   "cell_type": "code",
   "execution_count": null,
   "metadata": {},
   "outputs": [],
   "source": [
    "# we will use an updated shapefile rather than the built-in dataset\n",
    "\n",
    "shp_link = 'data/mexicojoin.shp'\n",
    "data_table = ps.pdio.read_files(shp_link)"
   ]
  },
  {
   "cell_type": "code",
   "execution_count": null,
   "metadata": {},
   "outputs": [],
   "source": [
    "data_table.head()"
   ]
  },
  {
   "cell_type": "code",
   "execution_count": null,
   "metadata": {},
   "outputs": [],
   "source": [
    "data_table.columns"
   ]
  },
  {
   "cell_type": "code",
   "execution_count": null,
   "metadata": {
    "scrolled": false
   },
   "outputs": [],
   "source": [
    "import matplotlib.pyplot as plt\n",
    "import geopandas as gpd\n",
    "\n",
    "shp = gpd.read_file(shp_link)\n",
    "\n",
    "years = range(1940, 2010, 10)\n",
    "\n",
    "for year in years:\n",
    "    yi = ps.Quantiles(data_table['PCGDP%d'%year], k=5)\n",
    "    f, ax = plt.subplots(1, figsize=(9, 9))\n",
    "    shp.assign(cl=yi.yb).plot(column='cl', categorical=True, \\\n",
    "        k=5, cmap='BuGn', linewidth=0.1, ax=ax, \\\n",
    "        edgecolor='grey', legend=True)\n",
    "    ax.set_axis_off()\n",
    "    plt.title(str(year))\n",
    "    plt.show()\n"
   ]
  },
  {
   "cell_type": "code",
   "execution_count": null,
   "metadata": {},
   "outputs": [],
   "source": [
    "vnames= [\"PCGDP%d\"%year for year in years]\n",
    "vnames"
   ]
  },
  {
   "cell_type": "code",
   "execution_count": null,
   "metadata": {},
   "outputs": [],
   "source": [
    "Y = data_table[vnames].values"
   ]
  },
  {
   "cell_type": "code",
   "execution_count": null,
   "metadata": {},
   "outputs": [],
   "source": [
    "Y.shape"
   ]
  },
  {
   "cell_type": "markdown",
   "metadata": {},
   "source": [
    "## Theil Inequality\n",
    "\n",
    "$$\n",
    "T = \\sum_{i=1}^n \\left( \\frac{y_i}{\\sum_{i=1}^n y_i} ln \\left[ n \\frac{y_i}{\\sum_{i=1}^n y_i} \\right] \\right)\n",
    "$$"
   ]
  },
  {
   "cell_type": "code",
   "execution_count": null,
   "metadata": {},
   "outputs": [],
   "source": [
    "theil = ps.Theil(Y)"
   ]
  },
  {
   "cell_type": "code",
   "execution_count": null,
   "metadata": {},
   "outputs": [],
   "source": [
    "%pylab inline"
   ]
  },
  {
   "cell_type": "code",
   "execution_count": null,
   "metadata": {},
   "outputs": [],
   "source": [
    "plot(years, theil.T)"
   ]
  },
  {
   "cell_type": "markdown",
   "metadata": {},
   "source": [
    "## Interregional Decomposition\n",
    "\n",
    "$$\n",
    "T^t = \\sum_{g=1}^{\\omega} s_g^t ln(n/n_g s_g^t) + \\sum_{g=1}^{\\omega} s_g^t \\sum_{i \\in g} s_{i,g}^t ln (n_g s_{i,g}^t)\n",
    "$$\n",
    "\n",
    "where:\n",
    "\n",
    "* $\\sum_g n_g = n$\n",
    "* $s_g^t = \\sum_{i \\in g} y_{i,g}^t / \\sum_i^n y_i^t$\n",
    "* $s_{i,g}^t = y_{i,g}^t / \\sum_{i \\in g} y_{i,g}^t$\n",
    "\n",
    "$$\n",
    "T^t = BG^t + WG^T\n",
    "$$"
   ]
  },
  {
   "cell_type": "code",
   "execution_count": null,
   "metadata": {},
   "outputs": [],
   "source": [
    "import matplotlib.pyplot as plt\n",
    "import geopandas as gpd\n",
    "shp = gpd.read_file(shp_link)\n",
    "\n",
    "\n",
    "f, ax = plt.subplots(1, figsize=(9, 9))\n",
    "shp.plot(column='HANSON98', categorical=True, \\\n",
    "       linewidth=0.1, ax=ax, \\\n",
    "        edgecolor='white', legend=True)\n",
    "ax.set_axis_off()\n",
    "plt.title('HANSON98')\n",
    "plt.show()\n"
   ]
  },
  {
   "cell_type": "code",
   "execution_count": null,
   "metadata": {},
   "outputs": [],
   "source": [
    "regimes = data_table['HANSON98'].values"
   ]
  },
  {
   "cell_type": "code",
   "execution_count": null,
   "metadata": {},
   "outputs": [],
   "source": [
    "regimes"
   ]
  },
  {
   "cell_type": "code",
   "execution_count": null,
   "metadata": {},
   "outputs": [],
   "source": [
    "theil_d = ps.TheilD(Y, regimes)"
   ]
  },
  {
   "cell_type": "code",
   "execution_count": null,
   "metadata": {},
   "outputs": [],
   "source": [
    "regimes.shape"
   ]
  },
  {
   "cell_type": "code",
   "execution_count": null,
   "metadata": {},
   "outputs": [],
   "source": [
    "Y.shape"
   ]
  },
  {
   "cell_type": "code",
   "execution_count": null,
   "metadata": {},
   "outputs": [],
   "source": [
    "plot(years, theil_d.bg)"
   ]
  },
  {
   "cell_type": "code",
   "execution_count": null,
   "metadata": {},
   "outputs": [],
   "source": [
    "theil_d.bg"
   ]
  },
  {
   "cell_type": "code",
   "execution_count": null,
   "metadata": {},
   "outputs": [],
   "source": []
  },
  {
   "cell_type": "code",
   "execution_count": null,
   "metadata": {},
   "outputs": [],
   "source": [
    "plot(years, theil_d.wg)"
   ]
  },
  {
   "cell_type": "code",
   "execution_count": null,
   "metadata": {},
   "outputs": [],
   "source": [
    "plot(years, theil_d.T, label='T')\n",
    "plot(years, theil_d.wg, '-o', label='wg')\n",
    "plot(years, theil_d.bg, '-^', label='bg')\n",
    "legend()"
   ]
  },
  {
   "cell_type": "markdown",
   "metadata": {},
   "source": [
    "## Inference"
   ]
  },
  {
   "cell_type": "code",
   "execution_count": null,
   "metadata": {},
   "outputs": [],
   "source": [
    "np.random.seed(12345)\n",
    "theil_ds = ps.TheilDSim(Y, regimes, 999)"
   ]
  },
  {
   "cell_type": "code",
   "execution_count": null,
   "metadata": {},
   "outputs": [],
   "source": [
    "theil_ds.bg_pvalue"
   ]
  },
  {
   "cell_type": "code",
   "execution_count": null,
   "metadata": {},
   "outputs": [],
   "source": [
    "plot(years, theil_d.T, label='T')\n",
    "plot(years, theil_d.wg, '-o', label='wg')\n",
    "plot(years, theil_d.bg, '-^', label='bg')\n",
    "plot(years, theil_ds.bg_pvalue, ':k', label='p-value')\n",
    "legend()"
   ]
  },
  {
   "cell_type": "markdown",
   "metadata": {},
   "source": [
    "## Sensitivity to regime definition"
   ]
  },
  {
   "cell_type": "code",
   "execution_count": null,
   "metadata": {},
   "outputs": [],
   "source": [
    "regimes = ['HANSON03', 'HANSON98', 'ESQUIVEL99', 'INEGI', 'INEGI2']"
   ]
  },
  {
   "cell_type": "code",
   "execution_count": null,
   "metadata": {},
   "outputs": [],
   "source": []
  },
  {
   "cell_type": "code",
   "execution_count": null,
   "metadata": {
    "scrolled": false
   },
   "outputs": [],
   "source": [
    "import matplotlib.pyplot as plt\n",
    "import geopandas as gpd\n",
    "shp = gpd.read_file(shp_link)\n",
    "\n",
    "for regime in regimes:\n",
    "    f, ax = plt.subplots(1, figsize=(9, 9))\n",
    "    shp.plot(column=regime, categorical=True, \\\n",
    "           linewidth=0.1, ax=ax, \\\n",
    "            edgecolor='white', legend=True)\n",
    "    ax.set_axis_off()\n",
    "    plt.title(regime)\n",
    "    plt.show()"
   ]
  },
  {
   "cell_type": "code",
   "execution_count": null,
   "metadata": {
    "scrolled": true
   },
   "outputs": [],
   "source": [
    "results = {}\n",
    "for regime in regimes:\n",
    "    reg = data_table[regime].values\n",
    "    results[regime] = ps.TheilD(Y, reg)\n",
    "    plot(years, results[regime].bg)\n",
    "\n",
    "    "
   ]
  },
  {
   "cell_type": "code",
   "execution_count": null,
   "metadata": {},
   "outputs": [],
   "source": [
    "results = {}\n",
    "for regime in regimes:\n",
    "    reg = data_table[regime].values\n",
    "    results[regime] = ps.TheilD(Y, reg)\n",
    "    plot(years, results[regime].bg, label=regime)\n",
    "\n",
    "legend()\n",
    "\n",
    "    "
   ]
  },
  {
   "cell_type": "code",
   "execution_count": null,
   "metadata": {},
   "outputs": [],
   "source": [
    "#share of total equality\n",
    "results = {}\n",
    "for regime in regimes:\n",
    "    reg = data_table[regime].values\n",
    "    results[regime] = ps.TheilD(Y, reg)\n",
    "    plot(years, results[regime].bg/theil.T, label=regime)\n",
    "\n",
    "legend()\n",
    "\n",
    "    "
   ]
  },
  {
   "cell_type": "code",
   "execution_count": null,
   "metadata": {},
   "outputs": [],
   "source": []
  },
  {
   "cell_type": "code",
   "execution_count": null,
   "metadata": {},
   "outputs": [],
   "source": []
  },
  {
   "cell_type": "code",
   "execution_count": null,
   "metadata": {},
   "outputs": [],
   "source": []
  },
  {
   "cell_type": "code",
   "execution_count": null,
   "metadata": {},
   "outputs": [],
   "source": []
  }
 ],
 "metadata": {
  "anaconda-cloud": {},
  "kernelspec": {
   "display_name": "Python 3",
   "language": "python",
   "name": "python3"
  },
  "language_info": {
   "codemirror_mode": {
    "name": "ipython",
    "version": 3
   },
   "file_extension": ".py",
   "mimetype": "text/x-python",
   "name": "python",
   "nbconvert_exporter": "python",
   "pygments_lexer": "ipython3",
   "version": "3.6.6"
  }
 },
 "nbformat": 4,
 "nbformat_minor": 2
}
