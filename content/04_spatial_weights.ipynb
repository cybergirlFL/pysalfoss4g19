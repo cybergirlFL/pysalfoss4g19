{
 "cells": [
  {
   "cell_type": "markdown",
   "metadata": {},
   "source": [
    "# Spatial Weights\n"
   ]
  },
  {
   "cell_type": "markdown",
   "metadata": {},
   "source": [
    "Spatial weights are mathematical structures used to represent spatial relationships. Many spatial analytics, such as spatial autocorrelation statistics and regionalization algorithms rely on spatial weights. Generally speaking, a spatial weight $w_{i,j}$ expresses the notion of a geographical relationship between locations $i$ and $j$. These relationships can be based on a number of criteria including contiguity, geospatial distance and general distances.\n",
    "\n",
    "libpysal offers functionality for the construction, manipulation, analysis, and conversion of a wide array of spatial weights.\n",
    "\n",
    "We begin with construction of weights from common spatial data formats.\n"
   ]
  },
  {
   "cell_type": "code",
   "execution_count": 1,
   "metadata": {},
   "outputs": [],
   "source": [
    "import libpysal \n",
    "from libpysal.weights import Queen, Rook, KNN, Kernel\n",
    "import numpy as np\n",
    "import geopandas\n",
    "%matplotlib inline\n",
    "import matplotlib.pyplot as plt"
   ]
  },
  {
   "cell_type": "markdown",
   "metadata": {},
   "source": [
    "There are functions to construct weights directly from a file path. "
   ]
  },
  {
   "cell_type": "markdown",
   "metadata": {},
   "source": [
    "## Weight Types"
   ]
  },
  {
   "cell_type": "markdown",
   "metadata": {},
   "source": [
    "### Contiguity\n",
    "\n",
    "#### Queen Weights"
   ]
  },
  {
   "cell_type": "markdown",
   "metadata": {},
   "source": [
    "A commonly-used type of weight is a queen contigutiy weight, which reflects adjacency relationships as a binary indicator variable denoting whether or not a polygon shares an edge or a vertex with another polygon. These weights are symmetric, in that when polygon $A$ neighbors polygon $B$, both $w_{AB} = 1$ and $w_{BA} = 1$.\n",
    "\n",
    "To construct queen weights from a shapefile, we will use geopandas to read the file into a GeoDataFrame, and then use   libpysal to construct the weights:"
   ]
  },
  {
   "cell_type": "code",
   "execution_count": 2,
   "metadata": {},
   "outputs": [
    {
     "data": {
      "text/html": [
       "<div>\n",
       "<style scoped>\n",
       "    .dataframe tbody tr th:only-of-type {\n",
       "        vertical-align: middle;\n",
       "    }\n",
       "\n",
       "    .dataframe tbody tr th {\n",
       "        vertical-align: top;\n",
       "    }\n",
       "\n",
       "    .dataframe thead th {\n",
       "        text-align: right;\n",
       "    }\n",
       "</style>\n",
       "<table border=\"1\" class=\"dataframe\">\n",
       "  <thead>\n",
       "    <tr style=\"text-align: right;\">\n",
       "      <th></th>\n",
       "      <th>NAME</th>\n",
       "      <th>STATE_NAME</th>\n",
       "      <th>STATE_FIPS</th>\n",
       "      <th>CNTY_FIPS</th>\n",
       "      <th>FIPS</th>\n",
       "      <th>STFIPS</th>\n",
       "      <th>COFIPS</th>\n",
       "      <th>FIPSNO</th>\n",
       "      <th>SOUTH</th>\n",
       "      <th>HR60</th>\n",
       "      <th>...</th>\n",
       "      <th>BLK90</th>\n",
       "      <th>GI59</th>\n",
       "      <th>GI69</th>\n",
       "      <th>GI79</th>\n",
       "      <th>GI89</th>\n",
       "      <th>FH60</th>\n",
       "      <th>FH70</th>\n",
       "      <th>FH80</th>\n",
       "      <th>FH90</th>\n",
       "      <th>geometry</th>\n",
       "    </tr>\n",
       "  </thead>\n",
       "  <tbody>\n",
       "    <tr>\n",
       "      <th>0</th>\n",
       "      <td>Lipscomb</td>\n",
       "      <td>Texas</td>\n",
       "      <td>48</td>\n",
       "      <td>295</td>\n",
       "      <td>48295</td>\n",
       "      <td>48</td>\n",
       "      <td>295</td>\n",
       "      <td>48295</td>\n",
       "      <td>1</td>\n",
       "      <td>0.0</td>\n",
       "      <td>...</td>\n",
       "      <td>0.031817</td>\n",
       "      <td>0.286929</td>\n",
       "      <td>0.378219</td>\n",
       "      <td>0.407005</td>\n",
       "      <td>0.373005</td>\n",
       "      <td>6.724512</td>\n",
       "      <td>4.5</td>\n",
       "      <td>3.835360</td>\n",
       "      <td>6.093580</td>\n",
       "      <td>POLYGON ((-100.0068664550781 36.49387741088867...</td>\n",
       "    </tr>\n",
       "    <tr>\n",
       "      <th>1</th>\n",
       "      <td>Sherman</td>\n",
       "      <td>Texas</td>\n",
       "      <td>48</td>\n",
       "      <td>421</td>\n",
       "      <td>48421</td>\n",
       "      <td>48</td>\n",
       "      <td>421</td>\n",
       "      <td>48421</td>\n",
       "      <td>1</td>\n",
       "      <td>0.0</td>\n",
       "      <td>...</td>\n",
       "      <td>0.139958</td>\n",
       "      <td>0.288976</td>\n",
       "      <td>0.359377</td>\n",
       "      <td>0.415453</td>\n",
       "      <td>0.378041</td>\n",
       "      <td>5.665722</td>\n",
       "      <td>1.7</td>\n",
       "      <td>3.253796</td>\n",
       "      <td>3.869407</td>\n",
       "      <td>POLYGON ((-102.1675720214844 36.05462646484375...</td>\n",
       "    </tr>\n",
       "    <tr>\n",
       "      <th>2</th>\n",
       "      <td>Dallam</td>\n",
       "      <td>Texas</td>\n",
       "      <td>48</td>\n",
       "      <td>111</td>\n",
       "      <td>48111</td>\n",
       "      <td>48</td>\n",
       "      <td>111</td>\n",
       "      <td>48111</td>\n",
       "      <td>1</td>\n",
       "      <td>0.0</td>\n",
       "      <td>...</td>\n",
       "      <td>2.050906</td>\n",
       "      <td>0.331667</td>\n",
       "      <td>0.385996</td>\n",
       "      <td>0.370037</td>\n",
       "      <td>0.376015</td>\n",
       "      <td>7.546049</td>\n",
       "      <td>7.2</td>\n",
       "      <td>9.471366</td>\n",
       "      <td>14.231738</td>\n",
       "      <td>POLYGON ((-102.1675720214844 36.05462646484375...</td>\n",
       "    </tr>\n",
       "    <tr>\n",
       "      <th>3</th>\n",
       "      <td>Hansford</td>\n",
       "      <td>Texas</td>\n",
       "      <td>48</td>\n",
       "      <td>195</td>\n",
       "      <td>48195</td>\n",
       "      <td>48</td>\n",
       "      <td>195</td>\n",
       "      <td>48195</td>\n",
       "      <td>1</td>\n",
       "      <td>0.0</td>\n",
       "      <td>...</td>\n",
       "      <td>0.000000</td>\n",
       "      <td>0.253527</td>\n",
       "      <td>0.357813</td>\n",
       "      <td>0.393938</td>\n",
       "      <td>0.383924</td>\n",
       "      <td>7.591786</td>\n",
       "      <td>4.7</td>\n",
       "      <td>5.542986</td>\n",
       "      <td>7.125457</td>\n",
       "      <td>POLYGON ((-101.619499206543 36.05471038818359,...</td>\n",
       "    </tr>\n",
       "    <tr>\n",
       "      <th>4</th>\n",
       "      <td>Ochiltree</td>\n",
       "      <td>Texas</td>\n",
       "      <td>48</td>\n",
       "      <td>357</td>\n",
       "      <td>48357</td>\n",
       "      <td>48</td>\n",
       "      <td>357</td>\n",
       "      <td>48357</td>\n",
       "      <td>1</td>\n",
       "      <td>0.0</td>\n",
       "      <td>...</td>\n",
       "      <td>0.021911</td>\n",
       "      <td>0.236998</td>\n",
       "      <td>0.352940</td>\n",
       "      <td>0.343949</td>\n",
       "      <td>0.374461</td>\n",
       "      <td>5.172414</td>\n",
       "      <td>4.0</td>\n",
       "      <td>4.758392</td>\n",
       "      <td>9.159159</td>\n",
       "      <td>POLYGON ((-101.0823135375977 36.0562629699707,...</td>\n",
       "    </tr>\n",
       "  </tbody>\n",
       "</table>\n",
       "<p>5 rows × 70 columns</p>\n",
       "</div>"
      ],
      "text/plain": [
       "        NAME STATE_NAME STATE_FIPS CNTY_FIPS   FIPS  STFIPS  COFIPS  FIPSNO  \\\n",
       "0   Lipscomb      Texas         48       295  48295      48     295   48295   \n",
       "1    Sherman      Texas         48       421  48421      48     421   48421   \n",
       "2     Dallam      Texas         48       111  48111      48     111   48111   \n",
       "3   Hansford      Texas         48       195  48195      48     195   48195   \n",
       "4  Ochiltree      Texas         48       357  48357      48     357   48357   \n",
       "\n",
       "   SOUTH  HR60                        ...                             BLK90  \\\n",
       "0      1   0.0                        ...                          0.031817   \n",
       "1      1   0.0                        ...                          0.139958   \n",
       "2      1   0.0                        ...                          2.050906   \n",
       "3      1   0.0                        ...                          0.000000   \n",
       "4      1   0.0                        ...                          0.021911   \n",
       "\n",
       "       GI59      GI69      GI79      GI89      FH60  FH70      FH80  \\\n",
       "0  0.286929  0.378219  0.407005  0.373005  6.724512   4.5  3.835360   \n",
       "1  0.288976  0.359377  0.415453  0.378041  5.665722   1.7  3.253796   \n",
       "2  0.331667  0.385996  0.370037  0.376015  7.546049   7.2  9.471366   \n",
       "3  0.253527  0.357813  0.393938  0.383924  7.591786   4.7  5.542986   \n",
       "4  0.236998  0.352940  0.343949  0.374461  5.172414   4.0  4.758392   \n",
       "\n",
       "        FH90                                           geometry  \n",
       "0   6.093580  POLYGON ((-100.0068664550781 36.49387741088867...  \n",
       "1   3.869407  POLYGON ((-102.1675720214844 36.05462646484375...  \n",
       "2  14.231738  POLYGON ((-102.1675720214844 36.05462646484375...  \n",
       "3   7.125457  POLYGON ((-101.619499206543 36.05471038818359,...  \n",
       "4   9.159159  POLYGON ((-101.0823135375977 36.0562629699707,...  \n",
       "\n",
       "[5 rows x 70 columns]"
      ]
     },
     "execution_count": 2,
     "metadata": {},
     "output_type": "execute_result"
    }
   ],
   "source": [
    "shp_path = \"data/texas.shp\"\n",
    "df = geopandas.read_file(shp_path)\n",
    "df.head()"
   ]
  },
  {
   "cell_type": "code",
   "execution_count": 3,
   "metadata": {},
   "outputs": [],
   "source": [
    "qW = Queen.from_dataframe(df)"
   ]
  },
  {
   "cell_type": "code",
   "execution_count": 4,
   "metadata": {},
   "outputs": [
    {
     "data": {
      "text/plain": [
       "<libpysal.weights.contiguity.Queen at 0x7fdc8df57518>"
      ]
     },
     "execution_count": 4,
     "metadata": {},
     "output_type": "execute_result"
    }
   ],
   "source": [
    "qW"
   ]
  },
  {
   "cell_type": "markdown",
   "metadata": {},
   "source": [
    "All weights objects have a few traits that you can use to work with the weights object, as well as to get information about the weights object. \n",
    "\n",
    "To get the neighbors & weights around an observation, use the observation's index on the weights object, like a dictionary:"
   ]
  },
  {
   "cell_type": "code",
   "execution_count": 5,
   "metadata": {},
   "outputs": [
    {
     "data": {
      "text/plain": [
       "{159: 1.0, 154: 1.0, 138: 1.0, 139: 1.0, 171: 1.0, 127: 1.0}"
      ]
     },
     "execution_count": 5,
     "metadata": {},
     "output_type": "execute_result"
    }
   ],
   "source": [
    "qW[155] #neighbors & weights of the 156th observation (0-index remember)"
   ]
  },
  {
   "cell_type": "markdown",
   "metadata": {},
   "source": [
    "By default, the weights and the pandas dataframe will use the same index. So, we can view the observation and its neighbors in the dataframe by putting the observation's index and its neighbors' indexes together in one list:"
   ]
  },
  {
   "cell_type": "code",
   "execution_count": 6,
   "metadata": {},
   "outputs": [
    {
     "name": "stdout",
     "output_type": "stream",
     "text": [
      "[155, 159, 154, 138, 139, 171, 127]\n"
     ]
    }
   ],
   "source": [
    "self_and_neighbors = [155]\n",
    "self_and_neighbors.extend(qW.neighbors[155])\n",
    "print(self_and_neighbors)"
   ]
  },
  {
   "cell_type": "markdown",
   "metadata": {},
   "source": [
    "and grabbing those elements from the dataframe:"
   ]
  },
  {
   "cell_type": "code",
   "execution_count": 7,
   "metadata": {},
   "outputs": [
    {
     "data": {
      "text/html": [
       "<div>\n",
       "<style scoped>\n",
       "    .dataframe tbody tr th:only-of-type {\n",
       "        vertical-align: middle;\n",
       "    }\n",
       "\n",
       "    .dataframe tbody tr th {\n",
       "        vertical-align: top;\n",
       "    }\n",
       "\n",
       "    .dataframe thead th {\n",
       "        text-align: right;\n",
       "    }\n",
       "</style>\n",
       "<table border=\"1\" class=\"dataframe\">\n",
       "  <thead>\n",
       "    <tr style=\"text-align: right;\">\n",
       "      <th></th>\n",
       "      <th>NAME</th>\n",
       "      <th>STATE_NAME</th>\n",
       "      <th>STATE_FIPS</th>\n",
       "      <th>CNTY_FIPS</th>\n",
       "      <th>FIPS</th>\n",
       "      <th>STFIPS</th>\n",
       "      <th>COFIPS</th>\n",
       "      <th>FIPSNO</th>\n",
       "      <th>SOUTH</th>\n",
       "      <th>HR60</th>\n",
       "      <th>...</th>\n",
       "      <th>BLK90</th>\n",
       "      <th>GI59</th>\n",
       "      <th>GI69</th>\n",
       "      <th>GI79</th>\n",
       "      <th>GI89</th>\n",
       "      <th>FH60</th>\n",
       "      <th>FH70</th>\n",
       "      <th>FH80</th>\n",
       "      <th>FH90</th>\n",
       "      <th>geometry</th>\n",
       "    </tr>\n",
       "  </thead>\n",
       "  <tbody>\n",
       "    <tr>\n",
       "      <th>155</th>\n",
       "      <td>Lampasas</td>\n",
       "      <td>Texas</td>\n",
       "      <td>48</td>\n",
       "      <td>281</td>\n",
       "      <td>48281</td>\n",
       "      <td>48</td>\n",
       "      <td>281</td>\n",
       "      <td>48281</td>\n",
       "      <td>1</td>\n",
       "      <td>0.000000</td>\n",
       "      <td>...</td>\n",
       "      <td>1.982102</td>\n",
       "      <td>0.335017</td>\n",
       "      <td>0.402855</td>\n",
       "      <td>0.390354</td>\n",
       "      <td>0.393445</td>\n",
       "      <td>10.989441</td>\n",
       "      <td>7.8</td>\n",
       "      <td>8.652695</td>\n",
       "      <td>12.023460</td>\n",
       "      <td>POLYGON ((-97.91265106201172 31.04269218444824...</td>\n",
       "    </tr>\n",
       "    <tr>\n",
       "      <th>159</th>\n",
       "      <td>Bell</td>\n",
       "      <td>Texas</td>\n",
       "      <td>48</td>\n",
       "      <td>027</td>\n",
       "      <td>48027</td>\n",
       "      <td>48</td>\n",
       "      <td>27</td>\n",
       "      <td>48027</td>\n",
       "      <td>1</td>\n",
       "      <td>4.959421</td>\n",
       "      <td>...</td>\n",
       "      <td>18.889203</td>\n",
       "      <td>0.296351</td>\n",
       "      <td>0.378957</td>\n",
       "      <td>0.382181</td>\n",
       "      <td>0.386888</td>\n",
       "      <td>9.810410</td>\n",
       "      <td>8.2</td>\n",
       "      <td>10.025676</td>\n",
       "      <td>13.709190</td>\n",
       "      <td>POLYGON ((-97.83271026611328 30.9168701171875,...</td>\n",
       "    </tr>\n",
       "    <tr>\n",
       "      <th>154</th>\n",
       "      <td>San Saba</td>\n",
       "      <td>Texas</td>\n",
       "      <td>48</td>\n",
       "      <td>411</td>\n",
       "      <td>48411</td>\n",
       "      <td>48</td>\n",
       "      <td>411</td>\n",
       "      <td>48411</td>\n",
       "      <td>1</td>\n",
       "      <td>5.223842</td>\n",
       "      <td>...</td>\n",
       "      <td>0.259211</td>\n",
       "      <td>0.374866</td>\n",
       "      <td>0.469212</td>\n",
       "      <td>0.412534</td>\n",
       "      <td>0.447820</td>\n",
       "      <td>9.497207</td>\n",
       "      <td>9.0</td>\n",
       "      <td>7.595660</td>\n",
       "      <td>11.317009</td>\n",
       "      <td>POLYGON ((-98.95845031738281 30.9235668182373,...</td>\n",
       "    </tr>\n",
       "    <tr>\n",
       "      <th>138</th>\n",
       "      <td>Mills</td>\n",
       "      <td>Texas</td>\n",
       "      <td>48</td>\n",
       "      <td>333</td>\n",
       "      <td>48333</td>\n",
       "      <td>48</td>\n",
       "      <td>333</td>\n",
       "      <td>48333</td>\n",
       "      <td>1</td>\n",
       "      <td>7.462130</td>\n",
       "      <td>...</td>\n",
       "      <td>0.220702</td>\n",
       "      <td>0.378945</td>\n",
       "      <td>0.424433</td>\n",
       "      <td>0.372892</td>\n",
       "      <td>0.399459</td>\n",
       "      <td>8.283582</td>\n",
       "      <td>6.2</td>\n",
       "      <td>5.760709</td>\n",
       "      <td>7.267222</td>\n",
       "      <td>POLYGON ((-98.56594848632812 31.23529052734375...</td>\n",
       "    </tr>\n",
       "    <tr>\n",
       "      <th>139</th>\n",
       "      <td>Coryell</td>\n",
       "      <td>Texas</td>\n",
       "      <td>48</td>\n",
       "      <td>099</td>\n",
       "      <td>48099</td>\n",
       "      <td>48</td>\n",
       "      <td>99</td>\n",
       "      <td>48099</td>\n",
       "      <td>1</td>\n",
       "      <td>2.782299</td>\n",
       "      <td>...</td>\n",
       "      <td>21.167053</td>\n",
       "      <td>0.314801</td>\n",
       "      <td>0.354336</td>\n",
       "      <td>0.351261</td>\n",
       "      <td>0.335440</td>\n",
       "      <td>7.955449</td>\n",
       "      <td>8.0</td>\n",
       "      <td>7.230444</td>\n",
       "      <td>9.554187</td>\n",
       "      <td>POLYGON ((-97.90811157226562 31.07367515563965...</td>\n",
       "    </tr>\n",
       "    <tr>\n",
       "      <th>171</th>\n",
       "      <td>Burnet</td>\n",
       "      <td>Texas</td>\n",
       "      <td>48</td>\n",
       "      <td>053</td>\n",
       "      <td>48053</td>\n",
       "      <td>48</td>\n",
       "      <td>53</td>\n",
       "      <td>48053</td>\n",
       "      <td>1</td>\n",
       "      <td>0.000000</td>\n",
       "      <td>...</td>\n",
       "      <td>1.186224</td>\n",
       "      <td>0.327508</td>\n",
       "      <td>0.449285</td>\n",
       "      <td>0.385079</td>\n",
       "      <td>0.405890</td>\n",
       "      <td>10.774142</td>\n",
       "      <td>6.5</td>\n",
       "      <td>7.115629</td>\n",
       "      <td>10.568742</td>\n",
       "      <td>POLYGON ((-98.34817504882812 30.49784851074219...</td>\n",
       "    </tr>\n",
       "    <tr>\n",
       "      <th>127</th>\n",
       "      <td>Hamilton</td>\n",
       "      <td>Texas</td>\n",
       "      <td>48</td>\n",
       "      <td>193</td>\n",
       "      <td>48193</td>\n",
       "      <td>48</td>\n",
       "      <td>193</td>\n",
       "      <td>48193</td>\n",
       "      <td>1</td>\n",
       "      <td>0.000000</td>\n",
       "      <td>...</td>\n",
       "      <td>0.025863</td>\n",
       "      <td>0.384394</td>\n",
       "      <td>0.411167</td>\n",
       "      <td>0.405745</td>\n",
       "      <td>0.431276</td>\n",
       "      <td>10.249307</td>\n",
       "      <td>8.1</td>\n",
       "      <td>5.316150</td>\n",
       "      <td>10.190217</td>\n",
       "      <td>POLYGON ((-98.17922973632812 31.46478271484375...</td>\n",
       "    </tr>\n",
       "  </tbody>\n",
       "</table>\n",
       "<p>7 rows × 70 columns</p>\n",
       "</div>"
      ],
      "text/plain": [
       "         NAME STATE_NAME STATE_FIPS CNTY_FIPS   FIPS  STFIPS  COFIPS  FIPSNO  \\\n",
       "155  Lampasas      Texas         48       281  48281      48     281   48281   \n",
       "159      Bell      Texas         48       027  48027      48      27   48027   \n",
       "154  San Saba      Texas         48       411  48411      48     411   48411   \n",
       "138     Mills      Texas         48       333  48333      48     333   48333   \n",
       "139   Coryell      Texas         48       099  48099      48      99   48099   \n",
       "171    Burnet      Texas         48       053  48053      48      53   48053   \n",
       "127  Hamilton      Texas         48       193  48193      48     193   48193   \n",
       "\n",
       "     SOUTH      HR60                        ...                          \\\n",
       "155      1  0.000000                        ...                           \n",
       "159      1  4.959421                        ...                           \n",
       "154      1  5.223842                        ...                           \n",
       "138      1  7.462130                        ...                           \n",
       "139      1  2.782299                        ...                           \n",
       "171      1  0.000000                        ...                           \n",
       "127      1  0.000000                        ...                           \n",
       "\n",
       "         BLK90      GI59      GI69      GI79      GI89       FH60  FH70  \\\n",
       "155   1.982102  0.335017  0.402855  0.390354  0.393445  10.989441   7.8   \n",
       "159  18.889203  0.296351  0.378957  0.382181  0.386888   9.810410   8.2   \n",
       "154   0.259211  0.374866  0.469212  0.412534  0.447820   9.497207   9.0   \n",
       "138   0.220702  0.378945  0.424433  0.372892  0.399459   8.283582   6.2   \n",
       "139  21.167053  0.314801  0.354336  0.351261  0.335440   7.955449   8.0   \n",
       "171   1.186224  0.327508  0.449285  0.385079  0.405890  10.774142   6.5   \n",
       "127   0.025863  0.384394  0.411167  0.405745  0.431276  10.249307   8.1   \n",
       "\n",
       "          FH80       FH90                                           geometry  \n",
       "155   8.652695  12.023460  POLYGON ((-97.91265106201172 31.04269218444824...  \n",
       "159  10.025676  13.709190  POLYGON ((-97.83271026611328 30.9168701171875,...  \n",
       "154   7.595660  11.317009  POLYGON ((-98.95845031738281 30.9235668182373,...  \n",
       "138   5.760709   7.267222  POLYGON ((-98.56594848632812 31.23529052734375...  \n",
       "139   7.230444   9.554187  POLYGON ((-97.90811157226562 31.07367515563965...  \n",
       "171   7.115629  10.568742  POLYGON ((-98.34817504882812 30.49784851074219...  \n",
       "127   5.316150  10.190217  POLYGON ((-98.17922973632812 31.46478271484375...  \n",
       "\n",
       "[7 rows x 70 columns]"
      ]
     },
     "execution_count": 7,
     "metadata": {},
     "output_type": "execute_result"
    }
   ],
   "source": [
    "df.loc[self_and_neighbors]"
   ]
  },
  {
   "cell_type": "markdown",
   "metadata": {},
   "source": [
    "A full, dense matrix describing all of the pairwise relationships is constructed using the `.full` method, or when `libpysal.weights.full` is called on a weights object:"
   ]
  },
  {
   "cell_type": "code",
   "execution_count": 8,
   "metadata": {},
   "outputs": [],
   "source": [
    "Wmatrix, ids = qW.full()\n",
    "#Wmatrix, ids = libpysal.weights.full(qW)"
   ]
  },
  {
   "cell_type": "code",
   "execution_count": 9,
   "metadata": {},
   "outputs": [
    {
     "data": {
      "text/plain": [
       "array([[0., 0., 0., ..., 0., 0., 0.],\n",
       "       [0., 0., 1., ..., 0., 0., 0.],\n",
       "       [0., 1., 0., ..., 0., 0., 0.],\n",
       "       ...,\n",
       "       [0., 0., 0., ..., 0., 1., 1.],\n",
       "       [0., 0., 0., ..., 1., 0., 1.],\n",
       "       [0., 0., 0., ..., 1., 1., 0.]])"
      ]
     },
     "execution_count": 9,
     "metadata": {},
     "output_type": "execute_result"
    }
   ],
   "source": [
    "Wmatrix"
   ]
  },
  {
   "cell_type": "code",
   "execution_count": 10,
   "metadata": {},
   "outputs": [],
   "source": [
    "n_neighbors = Wmatrix.sum(axis=1) # how many neighbors each region has"
   ]
  },
  {
   "cell_type": "code",
   "execution_count": 11,
   "metadata": {},
   "outputs": [
    {
     "data": {
      "text/plain": [
       "6.0"
      ]
     },
     "execution_count": 11,
     "metadata": {},
     "output_type": "execute_result"
    }
   ],
   "source": [
    "n_neighbors[155]"
   ]
  },
  {
   "cell_type": "code",
   "execution_count": 12,
   "metadata": {},
   "outputs": [
    {
     "data": {
      "text/plain": [
       "6"
      ]
     },
     "execution_count": 12,
     "metadata": {},
     "output_type": "execute_result"
    }
   ],
   "source": [
    "qW.cardinalities[155]"
   ]
  },
  {
   "cell_type": "markdown",
   "metadata": {},
   "source": [
    "Note that this matrix is binary, in that its elements are either zero or one, since an observation is either a neighbor or it is not a neighbor. \n",
    "\n",
    "However, many common use cases of spatial weights require that the matrix is row-standardized. This is done simply in PySAL using the `.transform` attribute"
   ]
  },
  {
   "cell_type": "code",
   "execution_count": 13,
   "metadata": {},
   "outputs": [],
   "source": [
    "qW.transform = 'r'"
   ]
  },
  {
   "cell_type": "markdown",
   "metadata": {},
   "source": [
    "Now, if we build a new full matrix, its rows should sum to one:"
   ]
  },
  {
   "cell_type": "code",
   "execution_count": 14,
   "metadata": {},
   "outputs": [],
   "source": [
    "Wmatrix, ids = qW.full()"
   ]
  },
  {
   "cell_type": "code",
   "execution_count": 15,
   "metadata": {},
   "outputs": [
    {
     "data": {
      "text/plain": [
       "array([1., 1., 1., 1., 1., 1., 1., 1., 1., 1., 1., 1., 1., 1., 1., 1., 1.,\n",
       "       1., 1., 1., 1., 1., 1., 1., 1., 1., 1., 1., 1., 1., 1., 1., 1., 1.,\n",
       "       1., 1., 1., 1., 1., 1., 1., 1., 1., 1., 1., 1., 1., 1., 1., 1., 1.,\n",
       "       1., 1., 1., 1., 1., 1., 1., 1., 1., 1., 1., 1., 1., 1., 1., 1., 1.,\n",
       "       1., 1., 1., 1., 1., 1., 1., 1., 1., 1., 1., 1., 1., 1., 1., 1., 1.,\n",
       "       1., 1., 1., 1., 1., 1., 1., 1., 1., 1., 1., 1., 1., 1., 1., 1., 1.,\n",
       "       1., 1., 1., 1., 1., 1., 1., 1., 1., 1., 1., 1., 1., 1., 1., 1., 1.,\n",
       "       1., 1., 1., 1., 1., 1., 1., 1., 1., 1., 1., 1., 1., 1., 1., 1., 1.,\n",
       "       1., 1., 1., 1., 1., 1., 1., 1., 1., 1., 1., 1., 1., 1., 1., 1., 1.,\n",
       "       1., 1., 1., 1., 1., 1., 1., 1., 1., 1., 1., 1., 1., 1., 1., 1., 1.,\n",
       "       1., 1., 1., 1., 1., 1., 1., 1., 1., 1., 1., 1., 1., 1., 1., 1., 1.,\n",
       "       1., 1., 1., 1., 1., 1., 1., 1., 1., 1., 1., 1., 1., 1., 1., 1., 1.,\n",
       "       1., 1., 1., 1., 1., 1., 1., 1., 1., 1., 1., 1., 1., 1., 1., 1., 1.,\n",
       "       1., 1., 1., 1., 1., 1., 1., 1., 1., 1., 1., 1., 1., 1., 1., 1., 1.,\n",
       "       1., 1., 1., 1., 1., 1., 1., 1., 1., 1., 1., 1., 1., 1., 1., 1.])"
      ]
     },
     "execution_count": 15,
     "metadata": {},
     "output_type": "execute_result"
    }
   ],
   "source": [
    "Wmatrix.sum(axis=1) #numpy axes are 0:column, 1:row, 2:facet, into higher dimensions"
   ]
  },
  {
   "cell_type": "markdown",
   "metadata": {},
   "source": [
    "Since weight matrices are typically very sparse, there is also a sparse weights matrix constructor:"
   ]
  },
  {
   "cell_type": "code",
   "execution_count": 16,
   "metadata": {},
   "outputs": [
    {
     "data": {
      "text/plain": [
       "<254x254 sparse matrix of type '<class 'numpy.float64'>'\n",
       "\twith 1460 stored elements in Compressed Sparse Row format>"
      ]
     },
     "execution_count": 16,
     "metadata": {},
     "output_type": "execute_result"
    }
   ],
   "source": [
    "qW.sparse"
   ]
  },
  {
   "cell_type": "code",
   "execution_count": 17,
   "metadata": {},
   "outputs": [
    {
     "data": {
      "text/plain": [
       "2.263004526009052"
      ]
     },
     "execution_count": 17,
     "metadata": {},
     "output_type": "execute_result"
    }
   ],
   "source": [
    "qW.pct_nonzero #Percentage of nonzero neighbor counts"
   ]
  },
  {
   "cell_type": "markdown",
   "metadata": {},
   "source": [
    "Let's look at the neighborhoods of the 101th observation - Howard County, Texas"
   ]
  },
  {
   "cell_type": "code",
   "execution_count": 18,
   "metadata": {},
   "outputs": [
    {
     "data": {
      "text/plain": [
       "NAME                                                     Howard\n",
       "STATE_NAME                                                Texas\n",
       "STATE_FIPS                                                   48\n",
       "CNTY_FIPS                                                   227\n",
       "FIPS                                                      48227\n",
       "STFIPS                                                       48\n",
       "COFIPS                                                      227\n",
       "FIPSNO                                                    48227\n",
       "SOUTH                                                         1\n",
       "HR60                                                    9.96537\n",
       "HR70                                                     12.347\n",
       "HR80                                                    23.1328\n",
       "HR90                                                    11.3368\n",
       "HC60                                                          4\n",
       "HC70                                                    4.66667\n",
       "HC80                                                    7.66667\n",
       "HC90                                                    3.66667\n",
       "PO60                                                      40139\n",
       "PO70                                                      37796\n",
       "PO80                                                      33142\n",
       "PO90                                                      32343\n",
       "RD60                                                   -1.02818\n",
       "RD70                                                  -0.482933\n",
       "RD80                                                 0.00406328\n",
       "RD90                                                   0.434557\n",
       "PS60                                                   0.402693\n",
       "PS70                                                   0.308222\n",
       "PS80                                                   0.114283\n",
       "PS90                                                  0.0714244\n",
       "UE60                                                        4.8\n",
       "                                    ...                        \n",
       "MA90                                                         34\n",
       "POL60                                                   10.6001\n",
       "POL70                                                     10.54\n",
       "POL80                                                   10.4086\n",
       "POL90                                                   10.3842\n",
       "DNL60                                                   3.78556\n",
       "DNL70                                                   3.72542\n",
       "DNL80                                                   3.60505\n",
       "DNL90                                                   3.57854\n",
       "MFIL59                                                  8.64682\n",
       "MFIL69                                                  8.99268\n",
       "MFIL79                                                  9.77809\n",
       "MFIL89                                                  10.2151\n",
       "FP59                                                       18.9\n",
       "FP69                                                       12.8\n",
       "FP79                                                    12.3792\n",
       "FP89                                                    16.7671\n",
       "BLK60                                                   4.16552\n",
       "BLK70                                                   4.44491\n",
       "BLK80                                                   4.01303\n",
       "BLK90                                                   3.78753\n",
       "GI59                                                   0.261243\n",
       "GI69                                                   0.352898\n",
       "GI79                                                    0.38687\n",
       "GI89                                                   0.404335\n",
       "FH60                                                     8.3283\n",
       "FH70                                                        7.9\n",
       "FH80                                                    11.0435\n",
       "FH90                                                    15.3374\n",
       "geometry      POLYGON ((-101.2665557861328 32.09101486206055...\n",
       "Name: 100, Length: 70, dtype: object"
      ]
     },
     "execution_count": 18,
     "metadata": {},
     "output_type": "execute_result"
    }
   ],
   "source": [
    "df.iloc[100]"
   ]
  },
  {
   "cell_type": "code",
   "execution_count": 19,
   "metadata": {},
   "outputs": [
    {
     "data": {
      "text/plain": [
       "[84, 101, 85, 86, 104, 117, 118]"
      ]
     },
     "execution_count": 19,
     "metadata": {},
     "output_type": "execute_result"
    }
   ],
   "source": [
    "qW.neighbors[100]"
   ]
  },
  {
   "cell_type": "code",
   "execution_count": 20,
   "metadata": {},
   "outputs": [
    {
     "data": {
      "text/plain": [
       "7"
      ]
     },
     "execution_count": 20,
     "metadata": {},
     "output_type": "execute_result"
    }
   ],
   "source": [
    "len(qW.neighbors[100])"
   ]
  },
  {
   "cell_type": "code",
   "execution_count": 21,
   "metadata": {},
   "outputs": [
    {
     "data": {
      "text/html": [
       "<div>\n",
       "<style scoped>\n",
       "    .dataframe tbody tr th:only-of-type {\n",
       "        vertical-align: middle;\n",
       "    }\n",
       "\n",
       "    .dataframe tbody tr th {\n",
       "        vertical-align: top;\n",
       "    }\n",
       "\n",
       "    .dataframe thead th {\n",
       "        text-align: right;\n",
       "    }\n",
       "</style>\n",
       "<table border=\"1\" class=\"dataframe\">\n",
       "  <thead>\n",
       "    <tr style=\"text-align: right;\">\n",
       "      <th></th>\n",
       "      <th>NAME</th>\n",
       "      <th>STATE_NAME</th>\n",
       "      <th>STATE_FIPS</th>\n",
       "      <th>CNTY_FIPS</th>\n",
       "      <th>FIPS</th>\n",
       "      <th>STFIPS</th>\n",
       "      <th>COFIPS</th>\n",
       "      <th>FIPSNO</th>\n",
       "      <th>SOUTH</th>\n",
       "      <th>HR60</th>\n",
       "      <th>...</th>\n",
       "      <th>BLK90</th>\n",
       "      <th>GI59</th>\n",
       "      <th>GI69</th>\n",
       "      <th>GI79</th>\n",
       "      <th>GI89</th>\n",
       "      <th>FH60</th>\n",
       "      <th>FH70</th>\n",
       "      <th>FH80</th>\n",
       "      <th>FH90</th>\n",
       "      <th>geometry</th>\n",
       "    </tr>\n",
       "  </thead>\n",
       "  <tbody>\n",
       "    <tr>\n",
       "      <th>84</th>\n",
       "      <td>Scurry</td>\n",
       "      <td>Texas</td>\n",
       "      <td>48</td>\n",
       "      <td>415</td>\n",
       "      <td>48415</td>\n",
       "      <td>48</td>\n",
       "      <td>415</td>\n",
       "      <td>48415</td>\n",
       "      <td>1</td>\n",
       "      <td>3.272947</td>\n",
       "      <td>...</td>\n",
       "      <td>4.717184</td>\n",
       "      <td>0.257733</td>\n",
       "      <td>0.377475</td>\n",
       "      <td>0.378368</td>\n",
       "      <td>0.387530</td>\n",
       "      <td>7.060163</td>\n",
       "      <td>6.6</td>\n",
       "      <td>8.370385</td>\n",
       "      <td>9.228223</td>\n",
       "      <td>POLYGON ((-100.663330078125 32.52182388305664,...</td>\n",
       "    </tr>\n",
       "    <tr>\n",
       "      <th>101</th>\n",
       "      <td>Mitchell</td>\n",
       "      <td>Texas</td>\n",
       "      <td>48</td>\n",
       "      <td>335</td>\n",
       "      <td>48335</td>\n",
       "      <td>48</td>\n",
       "      <td>335</td>\n",
       "      <td>48335</td>\n",
       "      <td>1</td>\n",
       "      <td>2.961647</td>\n",
       "      <td>...</td>\n",
       "      <td>4.528443</td>\n",
       "      <td>0.308195</td>\n",
       "      <td>0.427075</td>\n",
       "      <td>0.429193</td>\n",
       "      <td>0.429171</td>\n",
       "      <td>8.922323</td>\n",
       "      <td>8.0</td>\n",
       "      <td>10.425615</td>\n",
       "      <td>12.516945</td>\n",
       "      <td>POLYGON ((-100.6694717407227 32.08793640136719...</td>\n",
       "    </tr>\n",
       "    <tr>\n",
       "      <th>85</th>\n",
       "      <td>Borden</td>\n",
       "      <td>Texas</td>\n",
       "      <td>48</td>\n",
       "      <td>033</td>\n",
       "      <td>48033</td>\n",
       "      <td>48</td>\n",
       "      <td>33</td>\n",
       "      <td>48033</td>\n",
       "      <td>1</td>\n",
       "      <td>92.936803</td>\n",
       "      <td>...</td>\n",
       "      <td>0.250313</td>\n",
       "      <td>0.316676</td>\n",
       "      <td>0.331702</td>\n",
       "      <td>0.430273</td>\n",
       "      <td>0.410525</td>\n",
       "      <td>5.574913</td>\n",
       "      <td>3.1</td>\n",
       "      <td>2.723735</td>\n",
       "      <td>4.602510</td>\n",
       "      <td>POLYGON ((-101.1782684326172 32.52310943603516...</td>\n",
       "    </tr>\n",
       "    <tr>\n",
       "      <th>86</th>\n",
       "      <td>Dawson</td>\n",
       "      <td>Texas</td>\n",
       "      <td>48</td>\n",
       "      <td>115</td>\n",
       "      <td>48115</td>\n",
       "      <td>48</td>\n",
       "      <td>115</td>\n",
       "      <td>48115</td>\n",
       "      <td>1</td>\n",
       "      <td>8.687343</td>\n",
       "      <td>...</td>\n",
       "      <td>4.334797</td>\n",
       "      <td>0.319099</td>\n",
       "      <td>0.450096</td>\n",
       "      <td>0.400927</td>\n",
       "      <td>0.441837</td>\n",
       "      <td>9.756098</td>\n",
       "      <td>7.8</td>\n",
       "      <td>6.738980</td>\n",
       "      <td>12.069864</td>\n",
       "      <td>POLYGON ((-101.6899566650391 32.52256393432617...</td>\n",
       "    </tr>\n",
       "    <tr>\n",
       "      <th>104</th>\n",
       "      <td>Martin</td>\n",
       "      <td>Texas</td>\n",
       "      <td>48</td>\n",
       "      <td>317</td>\n",
       "      <td>48317</td>\n",
       "      <td>48</td>\n",
       "      <td>317</td>\n",
       "      <td>48317</td>\n",
       "      <td>1</td>\n",
       "      <td>0.000000</td>\n",
       "      <td>...</td>\n",
       "      <td>1.795803</td>\n",
       "      <td>0.271493</td>\n",
       "      <td>0.431611</td>\n",
       "      <td>0.431032</td>\n",
       "      <td>0.414783</td>\n",
       "      <td>8.448416</td>\n",
       "      <td>6.8</td>\n",
       "      <td>3.228410</td>\n",
       "      <td>7.948524</td>\n",
       "      <td>POLYGON ((-101.7743606567383 32.0882682800293,...</td>\n",
       "    </tr>\n",
       "    <tr>\n",
       "      <th>117</th>\n",
       "      <td>Sterling</td>\n",
       "      <td>Texas</td>\n",
       "      <td>48</td>\n",
       "      <td>431</td>\n",
       "      <td>48431</td>\n",
       "      <td>48</td>\n",
       "      <td>431</td>\n",
       "      <td>48431</td>\n",
       "      <td>1</td>\n",
       "      <td>28.320589</td>\n",
       "      <td>...</td>\n",
       "      <td>0.000000</td>\n",
       "      <td>0.322944</td>\n",
       "      <td>0.401901</td>\n",
       "      <td>0.423753</td>\n",
       "      <td>0.391542</td>\n",
       "      <td>8.888889</td>\n",
       "      <td>7.8</td>\n",
       "      <td>8.823529</td>\n",
       "      <td>8.549223</td>\n",
       "      <td>POLYGON ((-101.2693634033203 31.65358352661133...</td>\n",
       "    </tr>\n",
       "    <tr>\n",
       "      <th>118</th>\n",
       "      <td>Glasscock</td>\n",
       "      <td>Texas</td>\n",
       "      <td>48</td>\n",
       "      <td>173</td>\n",
       "      <td>48173</td>\n",
       "      <td>48</td>\n",
       "      <td>173</td>\n",
       "      <td>48173</td>\n",
       "      <td>1</td>\n",
       "      <td>0.000000</td>\n",
       "      <td>...</td>\n",
       "      <td>0.000000</td>\n",
       "      <td>0.255656</td>\n",
       "      <td>0.447957</td>\n",
       "      <td>0.473217</td>\n",
       "      <td>0.415726</td>\n",
       "      <td>5.653710</td>\n",
       "      <td>3.8</td>\n",
       "      <td>2.424242</td>\n",
       "      <td>5.660377</td>\n",
       "      <td>POLYGON ((-101.2693634033203 31.65358352661133...</td>\n",
       "    </tr>\n",
       "  </tbody>\n",
       "</table>\n",
       "<p>7 rows × 70 columns</p>\n",
       "</div>"
      ],
      "text/plain": [
       "          NAME STATE_NAME STATE_FIPS CNTY_FIPS   FIPS  STFIPS  COFIPS  FIPSNO  \\\n",
       "84      Scurry      Texas         48       415  48415      48     415   48415   \n",
       "101   Mitchell      Texas         48       335  48335      48     335   48335   \n",
       "85      Borden      Texas         48       033  48033      48      33   48033   \n",
       "86      Dawson      Texas         48       115  48115      48     115   48115   \n",
       "104     Martin      Texas         48       317  48317      48     317   48317   \n",
       "117   Sterling      Texas         48       431  48431      48     431   48431   \n",
       "118  Glasscock      Texas         48       173  48173      48     173   48173   \n",
       "\n",
       "     SOUTH       HR60                        ...                          \\\n",
       "84       1   3.272947                        ...                           \n",
       "101      1   2.961647                        ...                           \n",
       "85       1  92.936803                        ...                           \n",
       "86       1   8.687343                        ...                           \n",
       "104      1   0.000000                        ...                           \n",
       "117      1  28.320589                        ...                           \n",
       "118      1   0.000000                        ...                           \n",
       "\n",
       "        BLK90      GI59      GI69      GI79      GI89      FH60  FH70  \\\n",
       "84   4.717184  0.257733  0.377475  0.378368  0.387530  7.060163   6.6   \n",
       "101  4.528443  0.308195  0.427075  0.429193  0.429171  8.922323   8.0   \n",
       "85   0.250313  0.316676  0.331702  0.430273  0.410525  5.574913   3.1   \n",
       "86   4.334797  0.319099  0.450096  0.400927  0.441837  9.756098   7.8   \n",
       "104  1.795803  0.271493  0.431611  0.431032  0.414783  8.448416   6.8   \n",
       "117  0.000000  0.322944  0.401901  0.423753  0.391542  8.888889   7.8   \n",
       "118  0.000000  0.255656  0.447957  0.473217  0.415726  5.653710   3.8   \n",
       "\n",
       "          FH80       FH90                                           geometry  \n",
       "84    8.370385   9.228223  POLYGON ((-100.663330078125 32.52182388305664,...  \n",
       "101  10.425615  12.516945  POLYGON ((-100.6694717407227 32.08793640136719...  \n",
       "85    2.723735   4.602510  POLYGON ((-101.1782684326172 32.52310943603516...  \n",
       "86    6.738980  12.069864  POLYGON ((-101.6899566650391 32.52256393432617...  \n",
       "104   3.228410   7.948524  POLYGON ((-101.7743606567383 32.0882682800293,...  \n",
       "117   8.823529   8.549223  POLYGON ((-101.2693634033203 31.65358352661133...  \n",
       "118   2.424242   5.660377  POLYGON ((-101.2693634033203 31.65358352661133...  \n",
       "\n",
       "[7 rows x 70 columns]"
      ]
     },
     "execution_count": 21,
     "metadata": {},
     "output_type": "execute_result"
    }
   ],
   "source": [
    "df.iloc[qW.neighbors[100]]"
   ]
  },
  {
   "cell_type": "code",
   "execution_count": 22,
   "metadata": {},
   "outputs": [
    {
     "data": {
      "text/plain": [
       "<matplotlib.axes._subplots.AxesSubplot at 0x7fdc4b9a75c0>"
      ]
     },
     "execution_count": 22,
     "metadata": {},
     "output_type": "execute_result"
    },
    {
     "data": {
      "image/png": "[encoded data removed]",
      "text/plain": [
       "<Figure size 432x288 with 1 Axes>"
      ]
     },
     "metadata": {
      "needs_background": "light"
     },
     "output_type": "display_data"
    }
   ],
   "source": [
    "df.assign(weights = qW.sparse[100,:].toarray().flatten()).plot('weights', cmap='plasma')           "
   ]
  },
  {
   "cell_type": "markdown",
   "metadata": {},
   "source": [
    "By default, PySAL assigns each observation an index according to the order in which the observation was read in. This means that, by default, all of the observations in the weights object are indexed by table order."
   ]
  },
  {
   "cell_type": "markdown",
   "metadata": {},
   "source": [
    "#### Rook Weights"
   ]
  },
  {
   "cell_type": "markdown",
   "metadata": {},
   "source": [
    "Rook weights are another type of contiguity weight, but consider observations as neighboring only when they share an edge. The rook neighbors of an observation may be different than its queen neighbors, depending on how the observation and its nearby polygons are configured. \n",
    "\n",
    "We can construct this in the same way as the queen weights:"
   ]
  },
  {
   "cell_type": "code",
   "execution_count": 23,
   "metadata": {},
   "outputs": [],
   "source": [
    "rW = Rook.from_dataframe(df)"
   ]
  },
  {
   "cell_type": "code",
   "execution_count": 24,
   "metadata": {},
   "outputs": [
    {
     "data": {
      "text/plain": [
       "[101, 85, 118, 104, 117]"
      ]
     },
     "execution_count": 24,
     "metadata": {},
     "output_type": "execute_result"
    }
   ],
   "source": [
    "rW.neighbors[100]"
   ]
  },
  {
   "cell_type": "code",
   "execution_count": 25,
   "metadata": {},
   "outputs": [
    {
     "data": {
      "text/plain": [
       "5"
      ]
     },
     "execution_count": 25,
     "metadata": {},
     "output_type": "execute_result"
    }
   ],
   "source": [
    "len(rW.neighbors[100])"
   ]
  },
  {
   "cell_type": "code",
   "execution_count": 26,
   "metadata": {},
   "outputs": [
    {
     "data": {
      "text/html": [
       "<div>\n",
       "<style scoped>\n",
       "    .dataframe tbody tr th:only-of-type {\n",
       "        vertical-align: middle;\n",
       "    }\n",
       "\n",
       "    .dataframe tbody tr th {\n",
       "        vertical-align: top;\n",
       "    }\n",
       "\n",
       "    .dataframe thead th {\n",
       "        text-align: right;\n",
       "    }\n",
       "</style>\n",
       "<table border=\"1\" class=\"dataframe\">\n",
       "  <thead>\n",
       "    <tr style=\"text-align: right;\">\n",
       "      <th></th>\n",
       "      <th>NAME</th>\n",
       "      <th>STATE_NAME</th>\n",
       "      <th>STATE_FIPS</th>\n",
       "      <th>CNTY_FIPS</th>\n",
       "      <th>FIPS</th>\n",
       "      <th>STFIPS</th>\n",
       "      <th>COFIPS</th>\n",
       "      <th>FIPSNO</th>\n",
       "      <th>SOUTH</th>\n",
       "      <th>HR60</th>\n",
       "      <th>...</th>\n",
       "      <th>BLK90</th>\n",
       "      <th>GI59</th>\n",
       "      <th>GI69</th>\n",
       "      <th>GI79</th>\n",
       "      <th>GI89</th>\n",
       "      <th>FH60</th>\n",
       "      <th>FH70</th>\n",
       "      <th>FH80</th>\n",
       "      <th>FH90</th>\n",
       "      <th>geometry</th>\n",
       "    </tr>\n",
       "  </thead>\n",
       "  <tbody>\n",
       "    <tr>\n",
       "      <th>101</th>\n",
       "      <td>Mitchell</td>\n",
       "      <td>Texas</td>\n",
       "      <td>48</td>\n",
       "      <td>335</td>\n",
       "      <td>48335</td>\n",
       "      <td>48</td>\n",
       "      <td>335</td>\n",
       "      <td>48335</td>\n",
       "      <td>1</td>\n",
       "      <td>2.961647</td>\n",
       "      <td>...</td>\n",
       "      <td>4.528443</td>\n",
       "      <td>0.308195</td>\n",
       "      <td>0.427075</td>\n",
       "      <td>0.429193</td>\n",
       "      <td>0.429171</td>\n",
       "      <td>8.922323</td>\n",
       "      <td>8.0</td>\n",
       "      <td>10.425615</td>\n",
       "      <td>12.516945</td>\n",
       "      <td>POLYGON ((-100.6694717407227 32.08793640136719...</td>\n",
       "    </tr>\n",
       "    <tr>\n",
       "      <th>85</th>\n",
       "      <td>Borden</td>\n",
       "      <td>Texas</td>\n",
       "      <td>48</td>\n",
       "      <td>033</td>\n",
       "      <td>48033</td>\n",
       "      <td>48</td>\n",
       "      <td>33</td>\n",
       "      <td>48033</td>\n",
       "      <td>1</td>\n",
       "      <td>92.936803</td>\n",
       "      <td>...</td>\n",
       "      <td>0.250313</td>\n",
       "      <td>0.316676</td>\n",
       "      <td>0.331702</td>\n",
       "      <td>0.430273</td>\n",
       "      <td>0.410525</td>\n",
       "      <td>5.574913</td>\n",
       "      <td>3.1</td>\n",
       "      <td>2.723735</td>\n",
       "      <td>4.602510</td>\n",
       "      <td>POLYGON ((-101.1782684326172 32.52310943603516...</td>\n",
       "    </tr>\n",
       "    <tr>\n",
       "      <th>118</th>\n",
       "      <td>Glasscock</td>\n",
       "      <td>Texas</td>\n",
       "      <td>48</td>\n",
       "      <td>173</td>\n",
       "      <td>48173</td>\n",
       "      <td>48</td>\n",
       "      <td>173</td>\n",
       "      <td>48173</td>\n",
       "      <td>1</td>\n",
       "      <td>0.000000</td>\n",
       "      <td>...</td>\n",
       "      <td>0.000000</td>\n",
       "      <td>0.255656</td>\n",
       "      <td>0.447957</td>\n",
       "      <td>0.473217</td>\n",
       "      <td>0.415726</td>\n",
       "      <td>5.653710</td>\n",
       "      <td>3.8</td>\n",
       "      <td>2.424242</td>\n",
       "      <td>5.660377</td>\n",
       "      <td>POLYGON ((-101.2693634033203 31.65358352661133...</td>\n",
       "    </tr>\n",
       "    <tr>\n",
       "      <th>104</th>\n",
       "      <td>Martin</td>\n",
       "      <td>Texas</td>\n",
       "      <td>48</td>\n",
       "      <td>317</td>\n",
       "      <td>48317</td>\n",
       "      <td>48</td>\n",
       "      <td>317</td>\n",
       "      <td>48317</td>\n",
       "      <td>1</td>\n",
       "      <td>0.000000</td>\n",
       "      <td>...</td>\n",
       "      <td>1.795803</td>\n",
       "      <td>0.271493</td>\n",
       "      <td>0.431611</td>\n",
       "      <td>0.431032</td>\n",
       "      <td>0.414783</td>\n",
       "      <td>8.448416</td>\n",
       "      <td>6.8</td>\n",
       "      <td>3.228410</td>\n",
       "      <td>7.948524</td>\n",
       "      <td>POLYGON ((-101.7743606567383 32.0882682800293,...</td>\n",
       "    </tr>\n",
       "    <tr>\n",
       "      <th>117</th>\n",
       "      <td>Sterling</td>\n",
       "      <td>Texas</td>\n",
       "      <td>48</td>\n",
       "      <td>431</td>\n",
       "      <td>48431</td>\n",
       "      <td>48</td>\n",
       "      <td>431</td>\n",
       "      <td>48431</td>\n",
       "      <td>1</td>\n",
       "      <td>28.320589</td>\n",
       "      <td>...</td>\n",
       "      <td>0.000000</td>\n",
       "      <td>0.322944</td>\n",
       "      <td>0.401901</td>\n",
       "      <td>0.423753</td>\n",
       "      <td>0.391542</td>\n",
       "      <td>8.888889</td>\n",
       "      <td>7.8</td>\n",
       "      <td>8.823529</td>\n",
       "      <td>8.549223</td>\n",
       "      <td>POLYGON ((-101.2693634033203 31.65358352661133...</td>\n",
       "    </tr>\n",
       "  </tbody>\n",
       "</table>\n",
       "<p>5 rows × 70 columns</p>\n",
       "</div>"
      ],
      "text/plain": [
       "          NAME STATE_NAME STATE_FIPS CNTY_FIPS   FIPS  STFIPS  COFIPS  FIPSNO  \\\n",
       "101   Mitchell      Texas         48       335  48335      48     335   48335   \n",
       "85      Borden      Texas         48       033  48033      48      33   48033   \n",
       "118  Glasscock      Texas         48       173  48173      48     173   48173   \n",
       "104     Martin      Texas         48       317  48317      48     317   48317   \n",
       "117   Sterling      Texas         48       431  48431      48     431   48431   \n",
       "\n",
       "     SOUTH       HR60                        ...                          \\\n",
       "101      1   2.961647                        ...                           \n",
       "85       1  92.936803                        ...                           \n",
       "118      1   0.000000                        ...                           \n",
       "104      1   0.000000                        ...                           \n",
       "117      1  28.320589                        ...                           \n",
       "\n",
       "        BLK90      GI59      GI69      GI79      GI89      FH60  FH70  \\\n",
       "101  4.528443  0.308195  0.427075  0.429193  0.429171  8.922323   8.0   \n",
       "85   0.250313  0.316676  0.331702  0.430273  0.410525  5.574913   3.1   \n",
       "118  0.000000  0.255656  0.447957  0.473217  0.415726  5.653710   3.8   \n",
       "104  1.795803  0.271493  0.431611  0.431032  0.414783  8.448416   6.8   \n",
       "117  0.000000  0.322944  0.401901  0.423753  0.391542  8.888889   7.8   \n",
       "\n",
       "          FH80       FH90                                           geometry  \n",
       "101  10.425615  12.516945  POLYGON ((-100.6694717407227 32.08793640136719...  \n",
       "85    2.723735   4.602510  POLYGON ((-101.1782684326172 32.52310943603516...  \n",
       "118   2.424242   5.660377  POLYGON ((-101.2693634033203 31.65358352661133...  \n",
       "104   3.228410   7.948524  POLYGON ((-101.7743606567383 32.0882682800293,...  \n",
       "117   8.823529   8.549223  POLYGON ((-101.2693634033203 31.65358352661133...  \n",
       "\n",
       "[5 rows x 70 columns]"
      ]
     },
     "execution_count": 26,
     "metadata": {},
     "output_type": "execute_result"
    }
   ],
   "source": [
    "df.iloc[rW.neighbors[100]]"
   ]
  },
  {
   "cell_type": "code",
   "execution_count": 27,
   "metadata": {},
   "outputs": [
    {
     "data": {
      "text/plain": [
       "<matplotlib.axes._subplots.AxesSubplot at 0x7fdc4b952630>"
      ]
     },
     "execution_count": 27,
     "metadata": {},
     "output_type": "execute_result"
    },
    {
     "data": {
      "image/png": "[encoded data removed]",
      "text/plain": [
       "<Figure size 432x288 with 1 Axes>"
      ]
     },
     "metadata": {
      "needs_background": "light"
     },
     "output_type": "display_data"
    }
   ],
   "source": [
    "df.assign(weights = rW.sparse[100,:].toarray().flatten()).plot('weights', cmap='plasma')"
   ]
  },
  {
   "cell_type": "markdown",
   "metadata": {},
   "source": [
    "#### Bishop Weights"
   ]
  },
  {
   "cell_type": "markdown",
   "metadata": {},
   "source": [
    "In theory, a \"Bishop\" weighting scheme is one that arises when only polygons that share vertexes are considered to be neighboring. But, since Queen contiguigy requires either an edge or a vertex and Rook contiguity requires only shared edges, the following relationship is true:\n",
    "\n",
    "$$ \\mathcal{Q} = \\mathcal{R} \\cup \\mathcal{B} $$\n",
    "\n",
    "where $\\mathcal{Q}$ is the set of neighbor pairs *via* queen contiguity, $\\mathcal{R}$ is the set of neighbor pairs *via* Rook contiguity, and $\\mathcal{B}$ *via* Bishop contiguity. Thus:\n",
    "\n",
    "$$ \\mathcal{Q} \\setminus \\mathcal{R} = \\mathcal{B}$$\n",
    "\n",
    "Bishop weights entail all Queen neighbor pairs that are not also Rook neighbors.\n",
    "\n",
    "PySAL does not have a dedicated bishop weights constructor, but you can construct very easily using the `w_difference` function. This function is one of a family of tools to work with weights, all defined in `libpysal.weights`, that conduct these types of set operations between weight objects."
   ]
  },
  {
   "cell_type": "code",
   "execution_count": 28,
   "metadata": {},
   "outputs": [
    {
     "name": "stderr",
     "output_type": "stream",
     "text": [
      "/home/serge/anaconda3/envs/workshop18/lib/python3.6/site-packages/libpysal/weights/weights.py:168: UserWarning: There are 161 disconnected observations \n",
      "  Island ids: 19, 20, 21, 22, 23, 24, 25, 26, 34, 36, 37, 39, 40, 42, 52, 54, 55, 56, 57, 58, 59, 69, 70, 71, 72, 73, 74, 75, 76, 77, 78, 79, 80, 81, 87, 89, 90, 91, 92, 93, 94, 95, 96, 97, 98, 102, 103, 107, 108, 109, 112, 113, 114, 115, 116, 117, 120, 121, 122, 123, 124, 125, 127, 129, 130, 131, 133, 134, 135, 136, 137, 138, 139, 141, 142, 143, 147, 148, 150, 151, 152, 153, 154, 155, 156, 157, 159, 160, 161, 162, 163, 164, 168, 169, 170, 171, 173, 174, 175, 176, 177, 178, 179, 180, 181, 182, 184, 185, 186, 187, 188, 189, 190, 192, 193, 194, 195, 196, 197, 198, 199, 201, 202, 203, 204, 206, 207, 208, 209, 210, 211, 213, 215, 216, 219, 220, 221, 222, 223, 225, 226, 227, 231, 232, 233, 236, 237, 238, 240, 241, 243, 244, 245, 246, 247, 248, 249, 250, 251, 252, 253\n",
      "  \" Island ids: %s\" % ', '.join(str(island) for island in self.islands))\n"
     ]
    }
   ],
   "source": [
    "bW = libpysal.weights.w_difference(qW, rW, constrained=False)"
   ]
  },
  {
   "cell_type": "code",
   "execution_count": 29,
   "metadata": {},
   "outputs": [],
   "source": [
    "bW = libpysal.weights.w_difference(qW, rW, constrained=False)"
   ]
  },
  {
   "cell_type": "code",
   "execution_count": 30,
   "metadata": {},
   "outputs": [
    {
     "data": {
      "text/plain": [
       "<matplotlib.axes._subplots.AxesSubplot at 0x7fdc4b9694e0>"
      ]
     },
     "execution_count": 30,
     "metadata": {},
     "output_type": "execute_result"
    },
    {
     "data": {
      "image/png": "[encoded data removed]",
      "text/plain": [
       "<Figure size 432x288 with 1 Axes>"
      ]
     },
     "metadata": {
      "needs_background": "light"
     },
     "output_type": "display_data"
    }
   ],
   "source": [
    "df.assign(weights = bW.sparse[100,:].toarray().flatten()).plot('weights', cmap='plasma')"
   ]
  },
  {
   "cell_type": "code",
   "execution_count": 31,
   "metadata": {},
   "outputs": [
    {
     "data": {
      "text/plain": [
       "[(0, 161), (1, 48), (2, 33), (3, 8), (4, 4)]"
      ]
     },
     "execution_count": 31,
     "metadata": {},
     "output_type": "execute_result"
    }
   ],
   "source": [
    "bW.histogram"
   ]
  },
  {
   "cell_type": "markdown",
   "metadata": {},
   "source": [
    "Thus, the vast majority of counties have no bishop neighbors. But, a few do. A simple way to see these observations in the dataframe is to find all elements of the dataframe that are not \"islands,\" the term for an observation with no neighbors:"
   ]
  },
  {
   "cell_type": "code",
   "execution_count": 32,
   "metadata": {},
   "outputs": [],
   "source": [
    "islands = bW.islands"
   ]
  },
  {
   "cell_type": "code",
   "execution_count": 33,
   "metadata": {},
   "outputs": [
    {
     "data": {
      "text/plain": [
       "<libpysal.weights.weights.W at 0x7fdc4b955c18>"
      ]
     },
     "execution_count": 33,
     "metadata": {},
     "output_type": "execute_result"
    }
   ],
   "source": [
    "bW"
   ]
  },
  {
   "cell_type": "code",
   "execution_count": 34,
   "metadata": {},
   "outputs": [
    {
     "data": {
      "text/html": [
       "<div>\n",
       "<style scoped>\n",
       "    .dataframe tbody tr th:only-of-type {\n",
       "        vertical-align: middle;\n",
       "    }\n",
       "\n",
       "    .dataframe tbody tr th {\n",
       "        vertical-align: top;\n",
       "    }\n",
       "\n",
       "    .dataframe thead th {\n",
       "        text-align: right;\n",
       "    }\n",
       "</style>\n",
       "<table border=\"1\" class=\"dataframe\">\n",
       "  <thead>\n",
       "    <tr style=\"text-align: right;\">\n",
       "      <th></th>\n",
       "      <th>NAME</th>\n",
       "      <th>STATE_NAME</th>\n",
       "      <th>STATE_FIPS</th>\n",
       "      <th>CNTY_FIPS</th>\n",
       "      <th>FIPS</th>\n",
       "      <th>STFIPS</th>\n",
       "      <th>COFIPS</th>\n",
       "      <th>FIPSNO</th>\n",
       "      <th>SOUTH</th>\n",
       "      <th>HR60</th>\n",
       "      <th>...</th>\n",
       "      <th>BLK90</th>\n",
       "      <th>GI59</th>\n",
       "      <th>GI69</th>\n",
       "      <th>GI79</th>\n",
       "      <th>GI89</th>\n",
       "      <th>FH60</th>\n",
       "      <th>FH70</th>\n",
       "      <th>FH80</th>\n",
       "      <th>FH90</th>\n",
       "      <th>geometry</th>\n",
       "    </tr>\n",
       "  </thead>\n",
       "  <tbody>\n",
       "    <tr>\n",
       "      <th>0</th>\n",
       "      <td>Lipscomb</td>\n",
       "      <td>Texas</td>\n",
       "      <td>48</td>\n",
       "      <td>295</td>\n",
       "      <td>48295</td>\n",
       "      <td>48</td>\n",
       "      <td>295</td>\n",
       "      <td>48295</td>\n",
       "      <td>1</td>\n",
       "      <td>0.0</td>\n",
       "      <td>...</td>\n",
       "      <td>0.031817</td>\n",
       "      <td>0.286929</td>\n",
       "      <td>0.378219</td>\n",
       "      <td>0.407005</td>\n",
       "      <td>0.373005</td>\n",
       "      <td>6.724512</td>\n",
       "      <td>4.5</td>\n",
       "      <td>3.835360</td>\n",
       "      <td>6.093580</td>\n",
       "      <td>POLYGON ((-100.0068664550781 36.49387741088867...</td>\n",
       "    </tr>\n",
       "    <tr>\n",
       "      <th>1</th>\n",
       "      <td>Sherman</td>\n",
       "      <td>Texas</td>\n",
       "      <td>48</td>\n",
       "      <td>421</td>\n",
       "      <td>48421</td>\n",
       "      <td>48</td>\n",
       "      <td>421</td>\n",
       "      <td>48421</td>\n",
       "      <td>1</td>\n",
       "      <td>0.0</td>\n",
       "      <td>...</td>\n",
       "      <td>0.139958</td>\n",
       "      <td>0.288976</td>\n",
       "      <td>0.359377</td>\n",
       "      <td>0.415453</td>\n",
       "      <td>0.378041</td>\n",
       "      <td>5.665722</td>\n",
       "      <td>1.7</td>\n",
       "      <td>3.253796</td>\n",
       "      <td>3.869407</td>\n",
       "      <td>POLYGON ((-102.1675720214844 36.05462646484375...</td>\n",
       "    </tr>\n",
       "    <tr>\n",
       "      <th>2</th>\n",
       "      <td>Dallam</td>\n",
       "      <td>Texas</td>\n",
       "      <td>48</td>\n",
       "      <td>111</td>\n",
       "      <td>48111</td>\n",
       "      <td>48</td>\n",
       "      <td>111</td>\n",
       "      <td>48111</td>\n",
       "      <td>1</td>\n",
       "      <td>0.0</td>\n",
       "      <td>...</td>\n",
       "      <td>2.050906</td>\n",
       "      <td>0.331667</td>\n",
       "      <td>0.385996</td>\n",
       "      <td>0.370037</td>\n",
       "      <td>0.376015</td>\n",
       "      <td>7.546049</td>\n",
       "      <td>7.2</td>\n",
       "      <td>9.471366</td>\n",
       "      <td>14.231738</td>\n",
       "      <td>POLYGON ((-102.1675720214844 36.05462646484375...</td>\n",
       "    </tr>\n",
       "    <tr>\n",
       "      <th>3</th>\n",
       "      <td>Hansford</td>\n",
       "      <td>Texas</td>\n",
       "      <td>48</td>\n",
       "      <td>195</td>\n",
       "      <td>48195</td>\n",
       "      <td>48</td>\n",
       "      <td>195</td>\n",
       "      <td>48195</td>\n",
       "      <td>1</td>\n",
       "      <td>0.0</td>\n",
       "      <td>...</td>\n",
       "      <td>0.000000</td>\n",
       "      <td>0.253527</td>\n",
       "      <td>0.357813</td>\n",
       "      <td>0.393938</td>\n",
       "      <td>0.383924</td>\n",
       "      <td>7.591786</td>\n",
       "      <td>4.7</td>\n",
       "      <td>5.542986</td>\n",
       "      <td>7.125457</td>\n",
       "      <td>POLYGON ((-101.619499206543 36.05471038818359,...</td>\n",
       "    </tr>\n",
       "    <tr>\n",
       "      <th>4</th>\n",
       "      <td>Ochiltree</td>\n",
       "      <td>Texas</td>\n",
       "      <td>48</td>\n",
       "      <td>357</td>\n",
       "      <td>48357</td>\n",
       "      <td>48</td>\n",
       "      <td>357</td>\n",
       "      <td>48357</td>\n",
       "      <td>1</td>\n",
       "      <td>0.0</td>\n",
       "      <td>...</td>\n",
       "      <td>0.021911</td>\n",
       "      <td>0.236998</td>\n",
       "      <td>0.352940</td>\n",
       "      <td>0.343949</td>\n",
       "      <td>0.374461</td>\n",
       "      <td>5.172414</td>\n",
       "      <td>4.0</td>\n",
       "      <td>4.758392</td>\n",
       "      <td>9.159159</td>\n",
       "      <td>POLYGON ((-101.0823135375977 36.0562629699707,...</td>\n",
       "    </tr>\n",
       "  </tbody>\n",
       "</table>\n",
       "<p>5 rows × 70 columns</p>\n",
       "</div>"
      ],
      "text/plain": [
       "        NAME STATE_NAME STATE_FIPS CNTY_FIPS   FIPS  STFIPS  COFIPS  FIPSNO  \\\n",
       "0   Lipscomb      Texas         48       295  48295      48     295   48295   \n",
       "1    Sherman      Texas         48       421  48421      48     421   48421   \n",
       "2     Dallam      Texas         48       111  48111      48     111   48111   \n",
       "3   Hansford      Texas         48       195  48195      48     195   48195   \n",
       "4  Ochiltree      Texas         48       357  48357      48     357   48357   \n",
       "\n",
       "   SOUTH  HR60                        ...                             BLK90  \\\n",
       "0      1   0.0                        ...                          0.031817   \n",
       "1      1   0.0                        ...                          0.139958   \n",
       "2      1   0.0                        ...                          2.050906   \n",
       "3      1   0.0                        ...                          0.000000   \n",
       "4      1   0.0                        ...                          0.021911   \n",
       "\n",
       "       GI59      GI69      GI79      GI89      FH60  FH70      FH80  \\\n",
       "0  0.286929  0.378219  0.407005  0.373005  6.724512   4.5  3.835360   \n",
       "1  0.288976  0.359377  0.415453  0.378041  5.665722   1.7  3.253796   \n",
       "2  0.331667  0.385996  0.370037  0.376015  7.546049   7.2  9.471366   \n",
       "3  0.253527  0.357813  0.393938  0.383924  7.591786   4.7  5.542986   \n",
       "4  0.236998  0.352940  0.343949  0.374461  5.172414   4.0  4.758392   \n",
       "\n",
       "        FH90                                           geometry  \n",
       "0   6.093580  POLYGON ((-100.0068664550781 36.49387741088867...  \n",
       "1   3.869407  POLYGON ((-102.1675720214844 36.05462646484375...  \n",
       "2  14.231738  POLYGON ((-102.1675720214844 36.05462646484375...  \n",
       "3   7.125457  POLYGON ((-101.619499206543 36.05471038818359,...  \n",
       "4   9.159159  POLYGON ((-101.0823135375977 36.0562629699707,...  \n",
       "\n",
       "[5 rows x 70 columns]"
      ]
     },
     "execution_count": 34,
     "metadata": {},
     "output_type": "execute_result"
    }
   ],
   "source": [
    "# Using `.head()` to limit the number of rows printed\n",
    "df.query('FIPS not in @islands').head()"
   ]
  },
  {
   "cell_type": "markdown",
   "metadata": {},
   "source": [
    "## Distance"
   ]
  },
  {
   "cell_type": "markdown",
   "metadata": {},
   "source": [
    "There are many other kinds of weighting functions in PySAL. Another separate type use a continuous measure of distance to define neighborhoods. "
   ]
  },
  {
   "cell_type": "code",
   "execution_count": 35,
   "metadata": {},
   "outputs": [
    {
     "data": {
      "text/plain": [
       "3958.755865744055"
      ]
     },
     "execution_count": 35,
     "metadata": {},
     "output_type": "execute_result"
    }
   ],
   "source": [
    "radius_mile = libpysal.cg.sphere.RADIUS_EARTH_MILES\n",
    "radius_mile"
   ]
  },
  {
   "cell_type": "markdown",
   "metadata": {},
   "source": [
    "great circle (arc) distance -  maximum nearest neighbor distance in miles between the $n$ observations"
   ]
  },
  {
   "cell_type": "code",
   "execution_count": 36,
   "metadata": {},
   "outputs": [],
   "source": [
    "threshold = libpysal.weights.min_threshold_dist_from_shapefile('data/texas.shp',\n",
    "                                                               radius=radius_mile) "
   ]
  },
  {
   "cell_type": "code",
   "execution_count": 37,
   "metadata": {},
   "outputs": [
    {
     "data": {
      "text/plain": [
       "60.47758554135752"
      ]
     },
     "execution_count": 37,
     "metadata": {},
     "output_type": "execute_result"
    }
   ],
   "source": [
    "threshold"
   ]
  },
  {
   "cell_type": "code",
   "execution_count": 38,
   "metadata": {},
   "outputs": [
    {
     "data": {
      "text/plain": [
       "6371.0"
      ]
     },
     "execution_count": 38,
     "metadata": {},
     "output_type": "execute_result"
    }
   ],
   "source": [
    "radius_km = libpysal.cg.sphere.RADIUS_EARTH_KM\n",
    "radius_km"
   ]
  },
  {
   "cell_type": "code",
   "execution_count": 39,
   "metadata": {},
   "outputs": [
    {
     "data": {
      "text/plain": [
       "97.32923942547046"
      ]
     },
     "execution_count": 39,
     "metadata": {},
     "output_type": "execute_result"
    }
   ],
   "source": [
    "libpysal.weights.min_threshold_dist_from_shapefile('data/texas.shp',\n",
    "                                                               radius=radius_km) "
   ]
  },
  {
   "cell_type": "code",
   "execution_count": 40,
   "metadata": {},
   "outputs": [
    {
     "data": {
      "text/plain": [
       "1.0040319244447573"
      ]
     },
     "execution_count": 40,
     "metadata": {},
     "output_type": "execute_result"
    }
   ],
   "source": [
    "libpysal.weights.min_threshold_dist_from_shapefile('data/texas.shp')"
   ]
  },
  {
   "cell_type": "markdown",
   "metadata": {},
   "source": [
    "### knn defined weights"
   ]
  },
  {
   "cell_type": "code",
   "execution_count": 41,
   "metadata": {},
   "outputs": [],
   "source": [
    "knn4_bad = KNN.from_dataframe(df, k=4) # ignore curvature of the earth"
   ]
  },
  {
   "cell_type": "code",
   "execution_count": 42,
   "metadata": {},
   "outputs": [
    {
     "data": {
      "text/plain": [
       "[(4, 254)]"
      ]
     },
     "execution_count": 42,
     "metadata": {},
     "output_type": "execute_result"
    }
   ],
   "source": [
    "knn4_bad.histogram"
   ]
  },
  {
   "cell_type": "code",
   "execution_count": 43,
   "metadata": {},
   "outputs": [],
   "source": [
    "knn4 = KNN.from_dataframe(df, k=4, radius=radius_mile)"
   ]
  },
  {
   "cell_type": "code",
   "execution_count": 44,
   "metadata": {},
   "outputs": [
    {
     "data": {
      "text/plain": [
       "[(4, 254)]"
      ]
     },
     "execution_count": 44,
     "metadata": {},
     "output_type": "execute_result"
    }
   ],
   "source": [
    "knn4.histogram"
   ]
  },
  {
   "cell_type": "code",
   "execution_count": 45,
   "metadata": {},
   "outputs": [
    {
     "data": {
      "text/plain": [
       "{6: 1.0, 4: 1.0, 5: 1.0, 3: 1.0}"
      ]
     },
     "execution_count": 45,
     "metadata": {},
     "output_type": "execute_result"
    }
   ],
   "source": [
    "knn4[0]"
   ]
  },
  {
   "cell_type": "code",
   "execution_count": 46,
   "metadata": {},
   "outputs": [
    {
     "data": {
      "text/plain": [
       "{6: 1.0, 4: 1.0, 5: 1.0, 13: 1.0}"
      ]
     },
     "execution_count": 46,
     "metadata": {},
     "output_type": "execute_result"
    }
   ],
   "source": [
    "knn4_bad[0]"
   ]
  },
  {
   "cell_type": "code",
   "execution_count": 47,
   "metadata": {},
   "outputs": [
    {
     "data": {
      "text/plain": [
       "False"
      ]
     },
     "execution_count": 47,
     "metadata": {},
     "output_type": "execute_result"
    }
   ],
   "source": [
    "knn4_bad.neighbors == knn4.neighbors"
   ]
  },
  {
   "cell_type": "code",
   "execution_count": 48,
   "metadata": {},
   "outputs": [
    {
     "data": {
      "text/plain": [
       "<matplotlib.axes._subplots.AxesSubplot at 0x7fdc4b983f28>"
      ]
     },
     "execution_count": 48,
     "metadata": {},
     "output_type": "execute_result"
    },
    {
     "data": {
      "image/png": "[encoded data removed]",
      "text/plain": [
       "<Figure size 432x288 with 1 Axes>"
      ]
     },
     "metadata": {
      "needs_background": "light"
     },
     "output_type": "display_data"
    }
   ],
   "source": [
    "\n",
    "df.assign(weights = \n",
    "          knn4_bad.sparse[100,:].toarray().flatten()).plot('weights', \n",
    "                                                           cmap='plasma')"
   ]
  },
  {
   "cell_type": "markdown",
   "metadata": {},
   "source": [
    "### Kernel W"
   ]
  },
  {
   "cell_type": "markdown",
   "metadata": {},
   "source": [
    "Kernel Weights are continuous distance-based weights that use kernel densities to define the neighbor relationship.\n",
    "Typically, they estimate a `bandwidth`, which is a parameter governing how far out observations should be considered neighboring. Then, using this bandwidth, they evaluate a continuous kernel function to provide a weight between 0 and 1.\n",
    "\n",
    "Many different choices of kernel functions are supported, and bandwidths can either be fixed (constant over all units) or adaptive in function of unit density.\n",
    "\n",
    "For example, if we want to use **adaptive bandwidths for the map and weight according to a gaussian kernel**:"
   ]
  },
  {
   "cell_type": "markdown",
   "metadata": {},
   "source": [
    "#### Adaptive gaussian kernel weights\n",
    "\n",
    "bandwidth = the distance to the kth nearest neighbor for each\n",
    "                  observation\n",
    "   \n",
    "bandwith is changing across observations"
   ]
  },
  {
   "cell_type": "code",
   "execution_count": 49,
   "metadata": {},
   "outputs": [
    {
     "data": {
      "text/plain": [
       "<matplotlib.axes._subplots.AxesSubplot at 0x7fdc4b920c50>"
      ]
     },
     "execution_count": 49,
     "metadata": {},
     "output_type": "execute_result"
    },
    {
     "data": {
      "image/png": "[encoded data removed]",
      "text/plain": [
       "<Figure size 432x288 with 1 Axes>"
      ]
     },
     "metadata": {
      "needs_background": "light"
     },
     "output_type": "display_data"
    }
   ],
   "source": [
    "kernelWa = Kernel.from_dataframe(df, k=10, fixed=False, function='gaussian')\n",
    "df.assign(weights = \n",
    "          kernelWa.sparse[100,:].toarray().flatten()).plot('weights', \n",
    "                                                           cmap='plasma')"
   ]
  },
  {
   "cell_type": "code",
   "execution_count": 50,
   "metadata": {},
   "outputs": [
    {
     "data": {
      "text/plain": [
       "array([[1.41792307],\n",
       "       [1.16186765],\n",
       "       [1.51532266],\n",
       "       [1.16706641],\n",
       "       [1.16051064],\n",
       "       [1.02910576],\n",
       "       [1.17033966],\n",
       "       [1.02887826],\n",
       "       [1.31356614],\n",
       "       [1.0256787 ],\n",
       "       [0.88773322],\n",
       "       [0.88526614],\n",
       "       [0.88179061],\n",
       "       [1.08662339],\n",
       "       [1.22270045],\n",
       "       [0.89732036],\n",
       "       [0.89442955],\n",
       "       [1.0327589 ],\n",
       "       [0.88819223],\n",
       "       [1.12280474],\n",
       "       [1.05295281],\n",
       "       [0.94862185],\n",
       "       [0.95000665],\n",
       "       [0.92211746],\n",
       "       [1.00000484],\n",
       "       [0.92083932],\n",
       "       [1.05944729],\n",
       "       [1.05898297],\n",
       "       [0.9017759 ],\n",
       "       [0.90650946],\n",
       "       [0.90032068],\n",
       "       [0.89957   ],\n",
       "       [0.92902449],\n",
       "       [1.09851391],\n",
       "       [0.98062729],\n",
       "       [1.08796014],\n",
       "       [1.07679596],\n",
       "       [1.05234301],\n",
       "       [0.88935744],\n",
       "       [1.05377653],\n",
       "       [1.04809952],\n",
       "       [0.90585612],\n",
       "       [1.0087307 ],\n",
       "       [0.88937573],\n",
       "       [0.92083932],\n",
       "       [0.92211746],\n",
       "       [0.92258946],\n",
       "       [0.96578054],\n",
       "       [0.9231942 ],\n",
       "       [0.87525624],\n",
       "       [0.88758983],\n",
       "       [1.08870385],\n",
       "       [1.04771351],\n",
       "       [0.79507109],\n",
       "       [0.91935536],\n",
       "       [0.88100231],\n",
       "       [0.86501321],\n",
       "       [0.77468581],\n",
       "       [0.83933425],\n",
       "       [0.71666489],\n",
       "       [0.89021471],\n",
       "       [0.89984243],\n",
       "       [0.85576364],\n",
       "       [0.9017759 ],\n",
       "       [0.90650946],\n",
       "       [0.64869191],\n",
       "       [0.90032068],\n",
       "       [0.92180651],\n",
       "       [0.94487843],\n",
       "       [1.09315687],\n",
       "       [0.69813818],\n",
       "       [0.6833925 ],\n",
       "       [0.88894741],\n",
       "       [0.64803103],\n",
       "       [0.66248989],\n",
       "       [0.84306397],\n",
       "       [0.88762214],\n",
       "       [0.83316272],\n",
       "       [0.85350008],\n",
       "       [0.77092927],\n",
       "       [0.71778381],\n",
       "       [0.94731774],\n",
       "       [0.91169473],\n",
       "       [0.88937573],\n",
       "       [0.9146686 ],\n",
       "       [0.88379806],\n",
       "       [0.88286054],\n",
       "       [0.88991819],\n",
       "       [0.98147029],\n",
       "       [0.65612228],\n",
       "       [0.79885702],\n",
       "       [0.90464285],\n",
       "       [0.81750889],\n",
       "       [0.89856801],\n",
       "       [0.71778381],\n",
       "       [0.7288985 ],\n",
       "       [0.86192409],\n",
       "       [0.82022755],\n",
       "       [0.89787771],\n",
       "       [0.94502883],\n",
       "       [0.93988917],\n",
       "       [0.94668903],\n",
       "       [0.8667141 ],\n",
       "       [0.89048078],\n",
       "       [0.93898733],\n",
       "       [0.9180431 ],\n",
       "       [0.89684979],\n",
       "       [0.8317206 ],\n",
       "       [0.86574285],\n",
       "       [0.92430268],\n",
       "       [0.8846525 ],\n",
       "       [0.85304646],\n",
       "       [0.83262756],\n",
       "       [0.82022755],\n",
       "       [0.84306397],\n",
       "       [0.88762214],\n",
       "       [0.92430268],\n",
       "       [0.98183081],\n",
       "       [0.96456739],\n",
       "       [0.98183081],\n",
       "       [0.93271426],\n",
       "       [1.12306966],\n",
       "       [1.04137542],\n",
       "       [0.95436523],\n",
       "       [0.9085652 ],\n",
       "       [0.95056467],\n",
       "       [0.89191499],\n",
       "       [0.90088781],\n",
       "       [0.90609517],\n",
       "       [2.00658015],\n",
       "       [1.44121135],\n",
       "       [1.36961463],\n",
       "       [2.74437178],\n",
       "       [3.64914991],\n",
       "       [1.02846798],\n",
       "       [0.8824523 ],\n",
       "       [0.8580386 ],\n",
       "       [0.87506115],\n",
       "       [0.8317206 ],\n",
       "       [0.87449073],\n",
       "       [1.00661499],\n",
       "       [1.31028838],\n",
       "       [0.92956775],\n",
       "       [1.08379591],\n",
       "       [1.07156547],\n",
       "       [1.05794044],\n",
       "       [0.88549317],\n",
       "       [1.15035675],\n",
       "       [0.8245694 ],\n",
       "       [0.97364284],\n",
       "       [1.05876368],\n",
       "       [0.80949181],\n",
       "       [0.90027022],\n",
       "       [0.89091756],\n",
       "       [0.88605596],\n",
       "       [0.93302778],\n",
       "       [0.86897721],\n",
       "       [1.32201085],\n",
       "       [0.82463294],\n",
       "       [0.89065799],\n",
       "       [1.08811263],\n",
       "       [0.99049458],\n",
       "       [0.83185117],\n",
       "       [0.81503814],\n",
       "       [1.77988091],\n",
       "       [0.83838348],\n",
       "       [1.07262563],\n",
       "       [0.95844224],\n",
       "       [1.16494355],\n",
       "       [0.81334529],\n",
       "       [0.84612514],\n",
       "       [0.81350732],\n",
       "       [0.75425554],\n",
       "       [0.93743505],\n",
       "       [0.91329453],\n",
       "       [0.84386312],\n",
       "       [0.81712271],\n",
       "       [0.75336518],\n",
       "       [0.80199274],\n",
       "       [0.88059591],\n",
       "       [1.07353746],\n",
       "       [2.0542869 ],\n",
       "       [1.63661078],\n",
       "       [2.1955847 ],\n",
       "       [0.81865837],\n",
       "       [0.86897721],\n",
       "       [0.81865837],\n",
       "       [0.9536037 ],\n",
       "       [0.90064001],\n",
       "       [0.88320468],\n",
       "       [0.9211666 ],\n",
       "       [0.81506476],\n",
       "       [0.82463294],\n",
       "       [0.77480132],\n",
       "       [1.06787956],\n",
       "       [1.48115259],\n",
       "       [0.94734321],\n",
       "       [0.79553323],\n",
       "       [1.28083793],\n",
       "       [1.21517582],\n",
       "       [0.90630208],\n",
       "       [0.90150984],\n",
       "       [0.8440661 ],\n",
       "       [0.80966433],\n",
       "       [1.0051964 ],\n",
       "       [0.8134799 ],\n",
       "       [0.8642116 ],\n",
       "       [0.88301306],\n",
       "       [0.96760155],\n",
       "       [1.05432016],\n",
       "       [0.8174802 ],\n",
       "       [0.93262003],\n",
       "       [0.81057327],\n",
       "       [0.83067486],\n",
       "       [0.94138523],\n",
       "       [0.83141708],\n",
       "       [0.90720352],\n",
       "       [0.93824769],\n",
       "       [1.28586711],\n",
       "       [1.14382025],\n",
       "       [1.1945812 ],\n",
       "       [0.84489018],\n",
       "       [0.7970945 ],\n",
       "       [0.9268526 ],\n",
       "       [0.92296612],\n",
       "       [1.14206335],\n",
       "       [0.89611891],\n",
       "       [0.88543293],\n",
       "       [1.18139052],\n",
       "       [1.06565946],\n",
       "       [1.38408067],\n",
       "       [0.81057327],\n",
       "       [0.82877434],\n",
       "       [0.83532516],\n",
       "       [1.1771308 ],\n",
       "       [0.96262592],\n",
       "       [1.30856474],\n",
       "       [0.91512444],\n",
       "       [0.98495213],\n",
       "       [1.32551219],\n",
       "       [0.96928862],\n",
       "       [1.03444678],\n",
       "       [0.94993168],\n",
       "       [0.91695874],\n",
       "       [0.90870187],\n",
       "       [1.00790706],\n",
       "       [1.17400061],\n",
       "       [1.47507148],\n",
       "       [0.94706634],\n",
       "       [1.09176907],\n",
       "       [1.336009  ],\n",
       "       [1.33352328],\n",
       "       [1.47047952],\n",
       "       [1.82975152]])"
      ]
     },
     "execution_count": 50,
     "metadata": {},
     "output_type": "execute_result"
    }
   ],
   "source": [
    "kernelWa.bandwidth"
   ]
  },
  {
   "cell_type": "code",
   "execution_count": 51,
   "metadata": {},
   "outputs": [
    {
     "data": {
      "text/plain": [
       "<matplotlib.axes._subplots.AxesSubplot at 0x7fdc4b9262b0>"
      ]
     },
     "execution_count": 51,
     "metadata": {},
     "output_type": "execute_result"
    },
    {
     "data": {
      "image/png": "[encoded data removed]",
      "text/plain": [
       "<Figure size 432x288 with 1 Axes>"
      ]
     },
     "metadata": {
      "needs_background": "light"
     },
     "output_type": "display_data"
    }
   ],
   "source": [
    "df.assign(bw=kernelWa.bandwidth.flatten()).plot('bw', cmap='Reds')"
   ]
  },
  {
   "cell_type": "markdown",
   "metadata": {},
   "source": [
    "**fixed bandwidths for the map and weight according to a gaussian kernel**\n",
    "\n",
    "bandwidth = maximum of (the distances to the kth nearest neighbor for all observations)"
   ]
  },
  {
   "cell_type": "code",
   "execution_count": 52,
   "metadata": {},
   "outputs": [
    {
     "data": {
      "text/plain": [
       "<matplotlib.axes._subplots.AxesSubplot at 0x7fdc4b97f9b0>"
      ]
     },
     "execution_count": 52,
     "metadata": {},
     "output_type": "execute_result"
    },
    {
     "data": {
      "image/png": "[encoded data removed]",
      "text/plain": [
       "<Figure size 432x288 with 1 Axes>"
      ]
     },
     "metadata": {
      "needs_background": "light"
     },
     "output_type": "display_data"
    }
   ],
   "source": [
    "kernelWa = Kernel.from_dataframe(df, k=2, fixed=True, function='gaussian')\n",
    "\n",
    "df.assign(weights=kernelWa.sparse[100,:].toarray().flatten()).plot('weights', cmap='plasma')\n"
   ]
  },
  {
   "cell_type": "code",
   "execution_count": 53,
   "metadata": {},
   "outputs": [
    {
     "data": {
      "text/plain": [
       "<matplotlib.axes._subplots.AxesSubplot at 0x7fdc4b91cc50>"
      ]
     },
     "execution_count": 53,
     "metadata": {},
     "output_type": "execute_result"
    },
    {
     "data": {
      "image/png": "[encoded data removed]",
      "text/plain": [
       "<Figure size 432x288 with 1 Axes>"
      ]
     },
     "metadata": {
      "needs_background": "light"
     },
     "output_type": "display_data"
    }
   ],
   "source": [
    "kernelWa = Kernel.from_dataframe(df, k=2, fixed=True, function='gaussian')\n",
    "\n",
    "df.assign(weights=kernelWa.sparse[1,:].toarray().flatten()).plot('weights', cmap='plasma')"
   ]
  },
  {
   "cell_type": "code",
   "execution_count": 54,
   "metadata": {},
   "outputs": [
    {
     "data": {
      "text/plain": [
       "array([[1.75504473],\n",
       "       [1.75504473],\n",
       "       [1.75504473],\n",
       "       [1.75504473],\n",
       "       [1.75504473],\n",
       "       [1.75504473],\n",
       "       [1.75504473],\n",
       "       [1.75504473],\n",
       "       [1.75504473],\n",
       "       [1.75504473],\n",
       "       [1.75504473],\n",
       "       [1.75504473],\n",
       "       [1.75504473],\n",
       "       [1.75504473],\n",
       "       [1.75504473],\n",
       "       [1.75504473],\n",
       "       [1.75504473],\n",
       "       [1.75504473],\n",
       "       [1.75504473],\n",
       "       [1.75504473],\n",
       "       [1.75504473],\n",
       "       [1.75504473],\n",
       "       [1.75504473],\n",
       "       [1.75504473],\n",
       "       [1.75504473],\n",
       "       [1.75504473],\n",
       "       [1.75504473],\n",
       "       [1.75504473],\n",
       "       [1.75504473],\n",
       "       [1.75504473],\n",
       "       [1.75504473],\n",
       "       [1.75504473],\n",
       "       [1.75504473],\n",
       "       [1.75504473],\n",
       "       [1.75504473],\n",
       "       [1.75504473],\n",
       "       [1.75504473],\n",
       "       [1.75504473],\n",
       "       [1.75504473],\n",
       "       [1.75504473],\n",
       "       [1.75504473],\n",
       "       [1.75504473],\n",
       "       [1.75504473],\n",
       "       [1.75504473],\n",
       "       [1.75504473],\n",
       "       [1.75504473],\n",
       "       [1.75504473],\n",
       "       [1.75504473],\n",
       "       [1.75504473],\n",
       "       [1.75504473],\n",
       "       [1.75504473],\n",
       "       [1.75504473],\n",
       "       [1.75504473],\n",
       "       [1.75504473],\n",
       "       [1.75504473],\n",
       "       [1.75504473],\n",
       "       [1.75504473],\n",
       "       [1.75504473],\n",
       "       [1.75504473],\n",
       "       [1.75504473],\n",
       "       [1.75504473],\n",
       "       [1.75504473],\n",
       "       [1.75504473],\n",
       "       [1.75504473],\n",
       "       [1.75504473],\n",
       "       [1.75504473],\n",
       "       [1.75504473],\n",
       "       [1.75504473],\n",
       "       [1.75504473],\n",
       "       [1.75504473],\n",
       "       [1.75504473],\n",
       "       [1.75504473],\n",
       "       [1.75504473],\n",
       "       [1.75504473],\n",
       "       [1.75504473],\n",
       "       [1.75504473],\n",
       "       [1.75504473],\n",
       "       [1.75504473],\n",
       "       [1.75504473],\n",
       "       [1.75504473],\n",
       "       [1.75504473],\n",
       "       [1.75504473],\n",
       "       [1.75504473],\n",
       "       [1.75504473],\n",
       "       [1.75504473],\n",
       "       [1.75504473],\n",
       "       [1.75504473],\n",
       "       [1.75504473],\n",
       "       [1.75504473],\n",
       "       [1.75504473],\n",
       "       [1.75504473],\n",
       "       [1.75504473],\n",
       "       [1.75504473],\n",
       "       [1.75504473],\n",
       "       [1.75504473],\n",
       "       [1.75504473],\n",
       "       [1.75504473],\n",
       "       [1.75504473],\n",
       "       [1.75504473],\n",
       "       [1.75504473],\n",
       "       [1.75504473],\n",
       "       [1.75504473],\n",
       "       [1.75504473],\n",
       "       [1.75504473],\n",
       "       [1.75504473],\n",
       "       [1.75504473],\n",
       "       [1.75504473],\n",
       "       [1.75504473],\n",
       "       [1.75504473],\n",
       "       [1.75504473],\n",
       "       [1.75504473],\n",
       "       [1.75504473],\n",
       "       [1.75504473],\n",
       "       [1.75504473],\n",
       "       [1.75504473],\n",
       "       [1.75504473],\n",
       "       [1.75504473],\n",
       "       [1.75504473],\n",
       "       [1.75504473],\n",
       "       [1.75504473],\n",
       "       [1.75504473],\n",
       "       [1.75504473],\n",
       "       [1.75504473],\n",
       "       [1.75504473],\n",
       "       [1.75504473],\n",
       "       [1.75504473],\n",
       "       [1.75504473],\n",
       "       [1.75504473],\n",
       "       [1.75504473],\n",
       "       [1.75504473],\n",
       "       [1.75504473],\n",
       "       [1.75504473],\n",
       "       [1.75504473],\n",
       "       [1.75504473],\n",
       "       [1.75504473],\n",
       "       [1.75504473],\n",
       "       [1.75504473],\n",
       "       [1.75504473],\n",
       "       [1.75504473],\n",
       "       [1.75504473],\n",
       "       [1.75504473],\n",
       "       [1.75504473],\n",
       "       [1.75504473],\n",
       "       [1.75504473],\n",
       "       [1.75504473],\n",
       "       [1.75504473],\n",
       "       [1.75504473],\n",
       "       [1.75504473],\n",
       "       [1.75504473],\n",
       "       [1.75504473],\n",
       "       [1.75504473],\n",
       "       [1.75504473],\n",
       "       [1.75504473],\n",
       "       [1.75504473],\n",
       "       [1.75504473],\n",
       "       [1.75504473],\n",
       "       [1.75504473],\n",
       "       [1.75504473],\n",
       "       [1.75504473],\n",
       "       [1.75504473],\n",
       "       [1.75504473],\n",
       "       [1.75504473],\n",
       "       [1.75504473],\n",
       "       [1.75504473],\n",
       "       [1.75504473],\n",
       "       [1.75504473],\n",
       "       [1.75504473],\n",
       "       [1.75504473],\n",
       "       [1.75504473],\n",
       "       [1.75504473],\n",
       "       [1.75504473],\n",
       "       [1.75504473],\n",
       "       [1.75504473],\n",
       "       [1.75504473],\n",
       "       [1.75504473],\n",
       "       [1.75504473],\n",
       "       [1.75504473],\n",
       "       [1.75504473],\n",
       "       [1.75504473],\n",
       "       [1.75504473],\n",
       "       [1.75504473],\n",
       "       [1.75504473],\n",
       "       [1.75504473],\n",
       "       [1.75504473],\n",
       "       [1.75504473],\n",
       "       [1.75504473],\n",
       "       [1.75504473],\n",
       "       [1.75504473],\n",
       "       [1.75504473],\n",
       "       [1.75504473],\n",
       "       [1.75504473],\n",
       "       [1.75504473],\n",
       "       [1.75504473],\n",
       "       [1.75504473],\n",
       "       [1.75504473],\n",
       "       [1.75504473],\n",
       "       [1.75504473],\n",
       "       [1.75504473],\n",
       "       [1.75504473],\n",
       "       [1.75504473],\n",
       "       [1.75504473],\n",
       "       [1.75504473],\n",
       "       [1.75504473],\n",
       "       [1.75504473],\n",
       "       [1.75504473],\n",
       "       [1.75504473],\n",
       "       [1.75504473],\n",
       "       [1.75504473],\n",
       "       [1.75504473],\n",
       "       [1.75504473],\n",
       "       [1.75504473],\n",
       "       [1.75504473],\n",
       "       [1.75504473],\n",
       "       [1.75504473],\n",
       "       [1.75504473],\n",
       "       [1.75504473],\n",
       "       [1.75504473],\n",
       "       [1.75504473],\n",
       "       [1.75504473],\n",
       "       [1.75504473],\n",
       "       [1.75504473],\n",
       "       [1.75504473],\n",
       "       [1.75504473],\n",
       "       [1.75504473],\n",
       "       [1.75504473],\n",
       "       [1.75504473],\n",
       "       [1.75504473],\n",
       "       [1.75504473],\n",
       "       [1.75504473],\n",
       "       [1.75504473],\n",
       "       [1.75504473],\n",
       "       [1.75504473],\n",
       "       [1.75504473],\n",
       "       [1.75504473],\n",
       "       [1.75504473],\n",
       "       [1.75504473],\n",
       "       [1.75504473],\n",
       "       [1.75504473],\n",
       "       [1.75504473],\n",
       "       [1.75504473],\n",
       "       [1.75504473],\n",
       "       [1.75504473],\n",
       "       [1.75504473],\n",
       "       [1.75504473],\n",
       "       [1.75504473],\n",
       "       [1.75504473],\n",
       "       [1.75504473],\n",
       "       [1.75504473],\n",
       "       [1.75504473],\n",
       "       [1.75504473],\n",
       "       [1.75504473],\n",
       "       [1.75504473],\n",
       "       [1.75504473],\n",
       "       [1.75504473]])"
      ]
     },
     "execution_count": 54,
     "metadata": {},
     "output_type": "execute_result"
    }
   ],
   "source": [
    "kernelWa.bandwidth"
   ]
  },
  {
   "cell_type": "code",
   "execution_count": 55,
   "metadata": {},
   "outputs": [
    {
     "data": {
      "text/plain": [
       "<matplotlib.axes._subplots.AxesSubplot at 0x7fdc4b8d69e8>"
      ]
     },
     "execution_count": 55,
     "metadata": {},
     "output_type": "execute_result"
    },
    {
     "data": {
      "image/png": "[encoded data removed]",
      "text/plain": [
       "<Figure size 432x288 with 1 Axes>"
      ]
     },
     "metadata": {
      "needs_background": "light"
     },
     "output_type": "display_data"
    }
   ],
   "source": [
    "df.assign(bw=kernelWa.bandwidth.flatten()).plot('bw', cmap='Reds')"
   ]
  },
  {
   "cell_type": "code",
   "execution_count": null,
   "metadata": {},
   "outputs": [],
   "source": []
  },
  {
   "cell_type": "code",
   "execution_count": null,
   "metadata": {},
   "outputs": [],
   "source": []
  },
  {
   "cell_type": "markdown",
   "metadata": {},
   "source": [
    "## Exercise\n",
    "\n",
    "1. Answer this question before writing any code: What spatial weights structure would be more dense, Texas counties based on rook contiguity or Texas counties based on knn with k=4?\n",
    "2. Why?\n",
    "3. Write code to see if you are correct."
   ]
  },
  {
   "cell_type": "code",
   "execution_count": null,
   "metadata": {},
   "outputs": [],
   "source": []
  },
  {
   "cell_type": "code",
   "execution_count": null,
   "metadata": {},
   "outputs": [],
   "source": []
  },
  {
   "cell_type": "code",
   "execution_count": null,
   "metadata": {},
   "outputs": [],
   "source": []
  },
  {
   "cell_type": "code",
   "execution_count": null,
   "metadata": {},
   "outputs": [],
   "source": []
  },
  {
   "cell_type": "code",
   "execution_count": null,
   "metadata": {},
   "outputs": [],
   "source": []
  },
  {
   "cell_type": "code",
   "execution_count": null,
   "metadata": {},
   "outputs": [],
   "source": []
  },
  {
   "cell_type": "code",
   "execution_count": null,
   "metadata": {},
   "outputs": [],
   "source": []
  },
  {
   "cell_type": "code",
   "execution_count": null,
   "metadata": {},
   "outputs": [],
   "source": []
  },
  {
   "cell_type": "code",
   "execution_count": null,
   "metadata": {},
   "outputs": [],
   "source": []
  },
  {
   "cell_type": "code",
   "execution_count": null,
   "metadata": {},
   "outputs": [],
   "source": []
  },
  {
   "cell_type": "markdown",
   "metadata": {},
   "source": [
    "## Solution"
   ]
  },
  {
   "cell_type": "code",
   "execution_count": 56,
   "metadata": {},
   "outputs": [],
   "source": [
    "from libpysal.weights import Rook, KNN\n",
    "wrk = Rook.from_shapefile(\"data/texas.shp\")"
   ]
  },
  {
   "cell_type": "code",
   "execution_count": 57,
   "metadata": {},
   "outputs": [
    {
     "data": {
      "text/plain": [
       "2.0243040486080974"
      ]
     },
     "execution_count": 57,
     "metadata": {},
     "output_type": "execute_result"
    }
   ],
   "source": [
    "wrk.pct_nonzero"
   ]
  },
  {
   "cell_type": "code",
   "execution_count": 58,
   "metadata": {},
   "outputs": [
    {
     "data": {
      "text/plain": [
       "1.5748031496062993"
      ]
     },
     "execution_count": 58,
     "metadata": {},
     "output_type": "execute_result"
    }
   ],
   "source": [
    "wk4 = KNN.from_shapefile(\"data/texas.shp\", k=4)\n",
    "wk4.pct_nonzero"
   ]
  },
  {
   "cell_type": "code",
   "execution_count": null,
   "metadata": {},
   "outputs": [],
   "source": []
  }
 ],
 "metadata": {
  "anaconda-cloud": {},
  "kernelspec": {
   "display_name": "Python 3",
   "language": "python",
   "name": "python3"
  },
  "language_info": {
   "codemirror_mode": {
    "name": "ipython",
    "version": 3
   },
   "file_extension": ".py",
   "mimetype": "text/x-python",
   "name": "python",
   "nbconvert_exporter": "python",
   "pygments_lexer": "ipython3",
   "version": "3.6.6"
  }
 },
 "nbformat": 4,
 "nbformat_minor": 2
}
